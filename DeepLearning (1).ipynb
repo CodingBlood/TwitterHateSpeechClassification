{
 "cells": [
  {
   "cell_type": "code",
   "execution_count": 11,
   "metadata": {
    "colab": {
     "base_uri": "https://localhost:8080/",
     "height": 206
    },
    "collapsed": true,
    "id": "I9JZRgj3UCq_",
    "outputId": "370404b0-f4ec-4e4e-ed32-cf67bf356d36",
    "pycharm": {
     "name": "#%%\n"
    }
   },
   "outputs": [
    {
     "data": {
      "text/html": [
       "\n",
       "  <div id=\"df-3b6d9c6b-07a1-4b05-8458-f7fca095f613\">\n",
       "    <div class=\"colab-df-container\">\n",
       "      <div>\n",
       "<style scoped>\n",
       "    .dataframe tbody tr th:only-of-type {\n",
       "        vertical-align: middle;\n",
       "    }\n",
       "\n",
       "    .dataframe tbody tr th {\n",
       "        vertical-align: top;\n",
       "    }\n",
       "\n",
       "    .dataframe thead th {\n",
       "        text-align: right;\n",
       "    }\n",
       "</style>\n",
       "<table border=\"1\" class=\"dataframe\">\n",
       "  <thead>\n",
       "    <tr style=\"text-align: right;\">\n",
       "      <th></th>\n",
       "      <th>id</th>\n",
       "      <th>label</th>\n",
       "      <th>tweet</th>\n",
       "    </tr>\n",
       "  </thead>\n",
       "  <tbody>\n",
       "    <tr>\n",
       "      <th>0</th>\n",
       "      <td>1</td>\n",
       "      <td>0</td>\n",
       "      <td>@user when a father is dysfunctional and is s...</td>\n",
       "    </tr>\n",
       "    <tr>\n",
       "      <th>1</th>\n",
       "      <td>2</td>\n",
       "      <td>0</td>\n",
       "      <td>@user @user thanks for #lyft credit i can't us...</td>\n",
       "    </tr>\n",
       "    <tr>\n",
       "      <th>2</th>\n",
       "      <td>3</td>\n",
       "      <td>0</td>\n",
       "      <td>bihday your majesty</td>\n",
       "    </tr>\n",
       "    <tr>\n",
       "      <th>3</th>\n",
       "      <td>4</td>\n",
       "      <td>0</td>\n",
       "      <td>#model   i love u take with u all the time in ...</td>\n",
       "    </tr>\n",
       "    <tr>\n",
       "      <th>4</th>\n",
       "      <td>5</td>\n",
       "      <td>0</td>\n",
       "      <td>factsguide: society now    #motivation</td>\n",
       "    </tr>\n",
       "  </tbody>\n",
       "</table>\n",
       "</div>\n",
       "      <button class=\"colab-df-convert\" onclick=\"convertToInteractive('df-3b6d9c6b-07a1-4b05-8458-f7fca095f613')\"\n",
       "              title=\"Convert this dataframe to an interactive table.\"\n",
       "              style=\"display:none;\">\n",
       "        \n",
       "  <svg xmlns=\"http://www.w3.org/2000/svg\" height=\"24px\"viewBox=\"0 0 24 24\"\n",
       "       width=\"24px\">\n",
       "    <path d=\"M0 0h24v24H0V0z\" fill=\"none\"/>\n",
       "    <path d=\"M18.56 5.44l.94 2.06.94-2.06 2.06-.94-2.06-.94-.94-2.06-.94 2.06-2.06.94zm-11 1L8.5 8.5l.94-2.06 2.06-.94-2.06-.94L8.5 2.5l-.94 2.06-2.06.94zm10 10l.94 2.06.94-2.06 2.06-.94-2.06-.94-.94-2.06-.94 2.06-2.06.94z\"/><path d=\"M17.41 7.96l-1.37-1.37c-.4-.4-.92-.59-1.43-.59-.52 0-1.04.2-1.43.59L10.3 9.45l-7.72 7.72c-.78.78-.78 2.05 0 2.83L4 21.41c.39.39.9.59 1.41.59.51 0 1.02-.2 1.41-.59l7.78-7.78 2.81-2.81c.8-.78.8-2.07 0-2.86zM5.41 20L4 18.59l7.72-7.72 1.47 1.35L5.41 20z\"/>\n",
       "  </svg>\n",
       "      </button>\n",
       "      \n",
       "  <style>\n",
       "    .colab-df-container {\n",
       "      display:flex;\n",
       "      flex-wrap:wrap;\n",
       "      gap: 12px;\n",
       "    }\n",
       "\n",
       "    .colab-df-convert {\n",
       "      background-color: #E8F0FE;\n",
       "      border: none;\n",
       "      border-radius: 50%;\n",
       "      cursor: pointer;\n",
       "      display: none;\n",
       "      fill: #1967D2;\n",
       "      height: 32px;\n",
       "      padding: 0 0 0 0;\n",
       "      width: 32px;\n",
       "    }\n",
       "\n",
       "    .colab-df-convert:hover {\n",
       "      background-color: #E2EBFA;\n",
       "      box-shadow: 0px 1px 2px rgba(60, 64, 67, 0.3), 0px 1px 3px 1px rgba(60, 64, 67, 0.15);\n",
       "      fill: #174EA6;\n",
       "    }\n",
       "\n",
       "    [theme=dark] .colab-df-convert {\n",
       "      background-color: #3B4455;\n",
       "      fill: #D2E3FC;\n",
       "    }\n",
       "\n",
       "    [theme=dark] .colab-df-convert:hover {\n",
       "      background-color: #434B5C;\n",
       "      box-shadow: 0px 1px 3px 1px rgba(0, 0, 0, 0.15);\n",
       "      filter: drop-shadow(0px 1px 2px rgba(0, 0, 0, 0.3));\n",
       "      fill: #FFFFFF;\n",
       "    }\n",
       "  </style>\n",
       "\n",
       "      <script>\n",
       "        const buttonEl =\n",
       "          document.querySelector('#df-3b6d9c6b-07a1-4b05-8458-f7fca095f613 button.colab-df-convert');\n",
       "        buttonEl.style.display =\n",
       "          google.colab.kernel.accessAllowed ? 'block' : 'none';\n",
       "\n",
       "        async function convertToInteractive(key) {\n",
       "          const element = document.querySelector('#df-3b6d9c6b-07a1-4b05-8458-f7fca095f613');\n",
       "          const dataTable =\n",
       "            await google.colab.kernel.invokeFunction('convertToInteractive',\n",
       "                                                     [key], {});\n",
       "          if (!dataTable) return;\n",
       "\n",
       "          const docLinkHtml = 'Like what you see? Visit the ' +\n",
       "            '<a target=\"_blank\" href=https://colab.research.google.com/notebooks/data_table.ipynb>data table notebook</a>'\n",
       "            + ' to learn more about interactive tables.';\n",
       "          element.innerHTML = '';\n",
       "          dataTable['output_type'] = 'display_data';\n",
       "          await google.colab.output.renderOutput(dataTable, element);\n",
       "          const docLink = document.createElement('div');\n",
       "          docLink.innerHTML = docLinkHtml;\n",
       "          element.appendChild(docLink);\n",
       "        }\n",
       "      </script>\n",
       "    </div>\n",
       "  </div>\n",
       "  "
      ],
      "text/plain": [
       "   id  label                                              tweet\n",
       "0   1      0   @user when a father is dysfunctional and is s...\n",
       "1   2      0  @user @user thanks for #lyft credit i can't us...\n",
       "2   3      0                                bihday your majesty\n",
       "3   4      0  #model   i love u take with u all the time in ...\n",
       "4   5      0             factsguide: society now    #motivation"
      ]
     },
     "execution_count": 11,
     "metadata": {},
     "output_type": "execute_result"
    }
   ],
   "source": [
    "import numpy as np\n",
    "import pandas as pd\n",
    "import matplotlib.pyplot as plt\n",
    "import seaborn as sns\n",
    "\n",
    "\n",
    "\n",
    "data = pd.read_csv('train.csv', encoding = \"ISO-8859-1\") # importing training data\n",
    "data.head()"
   ]
  },
  {
   "cell_type": "code",
   "execution_count": 12,
   "metadata": {
    "id": "aWlEfwN6qkiC",
    "pycharm": {
     "name": "#%%\n"
    }
   },
   "outputs": [],
   "source": [
    "data3 = pd.DataFrame()\n",
    "data1 = data[data['label'] == 1]\n",
    "data0 = data[data['label'] == 0]\n",
    "frames = [data1.head(2242), data0.head(12758)]\n",
    "data3 = pd.concat(frames)\n",
    "data3 = data3.sample(frac = 1)\n",
    "data3\n",
    "df1=data3"
   ]
  },
  {
   "cell_type": "code",
   "execution_count": 13,
   "metadata": {
    "colab": {
     "base_uri": "https://localhost:8080/"
    },
    "id": "InzQBTd9UCrB",
    "outputId": "137f17ea-8bd3-4536-a21f-7dc276a31482",
    "pycharm": {
     "name": "#%%\n"
    }
   },
   "outputs": [
    {
     "data": {
      "text/plain": [
       "id       0\n",
       "label    0\n",
       "tweet    0\n",
       "dtype: int64"
      ]
     },
     "execution_count": 13,
     "metadata": {},
     "output_type": "execute_result"
    }
   ],
   "source": [
    "df1.isna().sum()"
   ]
  },
  {
   "cell_type": "code",
   "execution_count": 14,
   "metadata": {
    "colab": {
     "base_uri": "https://localhost:8080/"
    },
    "id": "mGn8wCD_UCrB",
    "outputId": "2dae7e9e-d5c2-4446-b0a9-fc21b8d0e561",
    "pycharm": {
     "name": "#%%\n"
    }
   },
   "outputs": [
    {
     "name": "stdout",
     "output_type": "stream",
     "text": [
      "12758 Non-Hatred Tweets\n",
      "2242 Hatred Tweets\n"
     ]
    }
   ],
   "source": [
    "print(len(df1[df1.label == 0]), 'Non-Hatred Tweets')\n",
    "print(len(df1[df1.label == 1]), 'Hatred Tweets')"
   ]
  },
  {
   "cell_type": "code",
   "execution_count": 15,
   "metadata": {
    "colab": {
     "base_uri": "https://localhost:8080/"
    },
    "id": "zlk5mA6YUCrC",
    "outputId": "2885cdf8-b12b-4d77-96c8-a90006d13143",
    "pycharm": {
     "name": "#%%\n"
    }
   },
   "outputs": [
    {
     "name": "stderr",
     "output_type": "stream",
     "text": [
      "[nltk_data] Downloading package wordnet to /root/nltk_data...\n",
      "[nltk_data]   Package wordnet is already up-to-date!\n",
      "[nltk_data] Downloading package stopwords to /root/nltk_data...\n",
      "[nltk_data]   Package stopwords is already up-to-date!\n"
     ]
    }
   ],
   "source": [
    "import nltk\n",
    "nltk.download('wordnet')\n",
    "nltk.download('stopwords')\n",
    "import re\n",
    "from nltk.corpus import stopwords\n",
    "from nltk.stem import WordNetLemmatizer\n",
    "lemma = WordNetLemmatizer()\n",
    "from wordcloud import WordCloud, STOPWORDS\n",
    "from nltk import FreqDist\n",
    "from sklearn.feature_extraction.text import CountVectorizer\n",
    "from sklearn.feature_extraction.text import TfidfVectorizer\n",
    "from sklearn.model_selection import train_test_split\n",
    "from sklearn.linear_model import LogisticRegression #classification model\n",
    "from sklearn.metrics import confusion_matrix, classification_report, f1_score"
   ]
  },
  {
   "cell_type": "code",
   "execution_count": 16,
   "metadata": {
    "colab": {
     "base_uri": "https://localhost:8080/",
     "height": 250
    },
    "id": "RQ7ikqezUCrC",
    "outputId": "f7d76db1-4833-4c14-91ae-ecdc96788ebc",
    "pycharm": {
     "name": "#%%\n"
    }
   },
   "outputs": [
    {
     "data": {
      "text/html": [
       "\n",
       "  <div id=\"df-42f2c055-ebda-4e69-9c0f-852909a01ef8\">\n",
       "    <div class=\"colab-df-container\">\n",
       "      <div>\n",
       "<style scoped>\n",
       "    .dataframe tbody tr th:only-of-type {\n",
       "        vertical-align: middle;\n",
       "    }\n",
       "\n",
       "    .dataframe tbody tr th {\n",
       "        vertical-align: top;\n",
       "    }\n",
       "\n",
       "    .dataframe thead th {\n",
       "        text-align: right;\n",
       "    }\n",
       "</style>\n",
       "<table border=\"1\" class=\"dataframe\">\n",
       "  <thead>\n",
       "    <tr style=\"text-align: right;\">\n",
       "      <th></th>\n",
       "      <th>id</th>\n",
       "      <th>label</th>\n",
       "      <th>tweet</th>\n",
       "      <th>normalized_text</th>\n",
       "    </tr>\n",
       "  </thead>\n",
       "  <tbody>\n",
       "    <tr>\n",
       "      <th>1687</th>\n",
       "      <td>1688</td>\n",
       "      <td>0</td>\n",
       "      <td>3 hours to go until our music video is release...</td>\n",
       "      <td>hour go music video released music edinburgh s...</td>\n",
       "    </tr>\n",
       "    <tr>\n",
       "      <th>3327</th>\n",
       "      <td>3328</td>\n",
       "      <td>0</td>\n",
       "      <td>orlando massacre: what we need to say - grazia</td>\n",
       "      <td>orlando massacre need say grazia</td>\n",
       "    </tr>\n",
       "    <tr>\n",
       "      <th>6495</th>\n",
       "      <td>6496</td>\n",
       "      <td>0</td>\n",
       "      <td>looks like #canadians #cared more abt #america...</td>\n",
       "      <td>look like canadian cared abt american slaughte...</td>\n",
       "    </tr>\n",
       "    <tr>\n",
       "      <th>3271</th>\n",
       "      <td>3272</td>\n",
       "      <td>0</td>\n",
       "      <td>@user @user @user nobody helping since days fo...</td>\n",
       "      <td>nobody helping since day complaint ref nothing...</td>\n",
       "    </tr>\n",
       "    <tr>\n",
       "      <th>20915</th>\n",
       "      <td>20916</td>\n",
       "      <td>1</td>\n",
       "      <td>#newyear 'wish list' of  cretin #carlpaladino,...</td>\n",
       "      <td>newyear wish list cretin carlpaladino election...</td>\n",
       "    </tr>\n",
       "  </tbody>\n",
       "</table>\n",
       "</div>\n",
       "      <button class=\"colab-df-convert\" onclick=\"convertToInteractive('df-42f2c055-ebda-4e69-9c0f-852909a01ef8')\"\n",
       "              title=\"Convert this dataframe to an interactive table.\"\n",
       "              style=\"display:none;\">\n",
       "        \n",
       "  <svg xmlns=\"http://www.w3.org/2000/svg\" height=\"24px\"viewBox=\"0 0 24 24\"\n",
       "       width=\"24px\">\n",
       "    <path d=\"M0 0h24v24H0V0z\" fill=\"none\"/>\n",
       "    <path d=\"M18.56 5.44l.94 2.06.94-2.06 2.06-.94-2.06-.94-.94-2.06-.94 2.06-2.06.94zm-11 1L8.5 8.5l.94-2.06 2.06-.94-2.06-.94L8.5 2.5l-.94 2.06-2.06.94zm10 10l.94 2.06.94-2.06 2.06-.94-2.06-.94-.94-2.06-.94 2.06-2.06.94z\"/><path d=\"M17.41 7.96l-1.37-1.37c-.4-.4-.92-.59-1.43-.59-.52 0-1.04.2-1.43.59L10.3 9.45l-7.72 7.72c-.78.78-.78 2.05 0 2.83L4 21.41c.39.39.9.59 1.41.59.51 0 1.02-.2 1.41-.59l7.78-7.78 2.81-2.81c.8-.78.8-2.07 0-2.86zM5.41 20L4 18.59l7.72-7.72 1.47 1.35L5.41 20z\"/>\n",
       "  </svg>\n",
       "      </button>\n",
       "      \n",
       "  <style>\n",
       "    .colab-df-container {\n",
       "      display:flex;\n",
       "      flex-wrap:wrap;\n",
       "      gap: 12px;\n",
       "    }\n",
       "\n",
       "    .colab-df-convert {\n",
       "      background-color: #E8F0FE;\n",
       "      border: none;\n",
       "      border-radius: 50%;\n",
       "      cursor: pointer;\n",
       "      display: none;\n",
       "      fill: #1967D2;\n",
       "      height: 32px;\n",
       "      padding: 0 0 0 0;\n",
       "      width: 32px;\n",
       "    }\n",
       "\n",
       "    .colab-df-convert:hover {\n",
       "      background-color: #E2EBFA;\n",
       "      box-shadow: 0px 1px 2px rgba(60, 64, 67, 0.3), 0px 1px 3px 1px rgba(60, 64, 67, 0.15);\n",
       "      fill: #174EA6;\n",
       "    }\n",
       "\n",
       "    [theme=dark] .colab-df-convert {\n",
       "      background-color: #3B4455;\n",
       "      fill: #D2E3FC;\n",
       "    }\n",
       "\n",
       "    [theme=dark] .colab-df-convert:hover {\n",
       "      background-color: #434B5C;\n",
       "      box-shadow: 0px 1px 3px 1px rgba(0, 0, 0, 0.15);\n",
       "      filter: drop-shadow(0px 1px 2px rgba(0, 0, 0, 0.3));\n",
       "      fill: #FFFFFF;\n",
       "    }\n",
       "  </style>\n",
       "\n",
       "      <script>\n",
       "        const buttonEl =\n",
       "          document.querySelector('#df-42f2c055-ebda-4e69-9c0f-852909a01ef8 button.colab-df-convert');\n",
       "        buttonEl.style.display =\n",
       "          google.colab.kernel.accessAllowed ? 'block' : 'none';\n",
       "\n",
       "        async function convertToInteractive(key) {\n",
       "          const element = document.querySelector('#df-42f2c055-ebda-4e69-9c0f-852909a01ef8');\n",
       "          const dataTable =\n",
       "            await google.colab.kernel.invokeFunction('convertToInteractive',\n",
       "                                                     [key], {});\n",
       "          if (!dataTable) return;\n",
       "\n",
       "          const docLinkHtml = 'Like what you see? Visit the ' +\n",
       "            '<a target=\"_blank\" href=https://colab.research.google.com/notebooks/data_table.ipynb>data table notebook</a>'\n",
       "            + ' to learn more about interactive tables.';\n",
       "          element.innerHTML = '';\n",
       "          dataTable['output_type'] = 'display_data';\n",
       "          await google.colab.output.renderOutput(dataTable, element);\n",
       "          const docLink = document.createElement('div');\n",
       "          docLink.innerHTML = docLinkHtml;\n",
       "          element.appendChild(docLink);\n",
       "        }\n",
       "      </script>\n",
       "    </div>\n",
       "  </div>\n",
       "  "
      ],
      "text/plain": [
       "          id  label                                              tweet  \\\n",
       "1687    1688      0  3 hours to go until our music video is release...   \n",
       "3327    3328      0  orlando massacre: what we need to say - grazia      \n",
       "6495    6496      0  looks like #canadians #cared more abt #america...   \n",
       "3271    3272      0  @user @user @user nobody helping since days fo...   \n",
       "20915  20916      1  #newyear 'wish list' of  cretin #carlpaladino,...   \n",
       "\n",
       "                                         normalized_text  \n",
       "1687   hour go music video released music edinburgh s...  \n",
       "3327                    orlando massacre need say grazia  \n",
       "6495   look like canadian cared abt american slaughte...  \n",
       "3271   nobody helping since day complaint ref nothing...  \n",
       "20915  newyear wish list cretin carlpaladino election...  "
      ]
     },
     "execution_count": 16,
     "metadata": {},
     "output_type": "execute_result"
    }
   ],
   "source": [
    "def normalizer(tweet):\n",
    "    tweets = \" \".join(filter(lambda x: x[0]!= '@' , tweet.split()))\n",
    "    tweets = re.sub('[^a-zA-Z]', ' ', tweets)\n",
    "    tweets = tweets.lower()\n",
    "    tweets = tweets.split()\n",
    "    tweets = [word for word in tweets if not word in set(stopwords.words('english'))]\n",
    "    tweets = [lemma.lemmatize(word) for word in tweets]\n",
    "    tweets = \" \".join(tweets)\n",
    "    return tweets\n",
    "\n",
    "df1['normalized_text'] = df1.tweet.apply(normalizer)\n",
    "df1.head()"
   ]
  },
  {
   "cell_type": "code",
   "execution_count": 17,
   "metadata": {
    "colab": {
     "base_uri": "https://localhost:8080/",
     "height": 571
    },
    "id": "cigpARVw58lS",
    "outputId": "b33671d9-932c-42a7-fbbb-7a69337013fa",
    "pycharm": {
     "name": "#%%\n"
    }
   },
   "outputs": [
    {
     "data": {
      "text/html": [
       "\n",
       "  <div id=\"df-e0dde111-4571-45f3-b5af-048528f6a4d2\">\n",
       "    <div class=\"colab-df-container\">\n",
       "      <div>\n",
       "<style scoped>\n",
       "    .dataframe tbody tr th:only-of-type {\n",
       "        vertical-align: middle;\n",
       "    }\n",
       "\n",
       "    .dataframe tbody tr th {\n",
       "        vertical-align: top;\n",
       "    }\n",
       "\n",
       "    .dataframe thead th {\n",
       "        text-align: right;\n",
       "    }\n",
       "</style>\n",
       "<table border=\"1\" class=\"dataframe\">\n",
       "  <thead>\n",
       "    <tr style=\"text-align: right;\">\n",
       "      <th></th>\n",
       "      <th>index</th>\n",
       "      <th>id</th>\n",
       "      <th>label</th>\n",
       "      <th>tweet</th>\n",
       "      <th>normalized_text</th>\n",
       "    </tr>\n",
       "  </thead>\n",
       "  <tbody>\n",
       "    <tr>\n",
       "      <th>0</th>\n",
       "      <td>1687</td>\n",
       "      <td>1688</td>\n",
       "      <td>0</td>\n",
       "      <td>3 hours to go until our music video is release...</td>\n",
       "      <td>hour go music video released music edinburgh s...</td>\n",
       "    </tr>\n",
       "    <tr>\n",
       "      <th>1</th>\n",
       "      <td>3327</td>\n",
       "      <td>3328</td>\n",
       "      <td>0</td>\n",
       "      <td>orlando massacre: what we need to say - grazia</td>\n",
       "      <td>orlando massacre need say grazia</td>\n",
       "    </tr>\n",
       "    <tr>\n",
       "      <th>2</th>\n",
       "      <td>6495</td>\n",
       "      <td>6496</td>\n",
       "      <td>0</td>\n",
       "      <td>looks like #canadians #cared more abt #america...</td>\n",
       "      <td>look like canadian cared abt american slaughte...</td>\n",
       "    </tr>\n",
       "    <tr>\n",
       "      <th>3</th>\n",
       "      <td>3271</td>\n",
       "      <td>3272</td>\n",
       "      <td>0</td>\n",
       "      <td>@user @user @user nobody helping since days fo...</td>\n",
       "      <td>nobody helping since day complaint ref nothing...</td>\n",
       "    </tr>\n",
       "    <tr>\n",
       "      <th>4</th>\n",
       "      <td>20915</td>\n",
       "      <td>20916</td>\n",
       "      <td>1</td>\n",
       "      <td>#newyear 'wish list' of  cretin #carlpaladino,...</td>\n",
       "      <td>newyear wish list cretin carlpaladino election...</td>\n",
       "    </tr>\n",
       "    <tr>\n",
       "      <th>...</th>\n",
       "      <td>...</td>\n",
       "      <td>...</td>\n",
       "      <td>...</td>\n",
       "      <td>...</td>\n",
       "      <td>...</td>\n",
       "    </tr>\n",
       "    <tr>\n",
       "      <th>14995</th>\n",
       "      <td>11412</td>\n",
       "      <td>11413</td>\n",
       "      <td>0</td>\n",
       "      <td>@user it's #bihdaybash in #atlanta we love to...</td>\n",
       "      <td>bihdaybash atlanta love see lady newhair get f...</td>\n",
       "    </tr>\n",
       "    <tr>\n",
       "      <th>14996</th>\n",
       "      <td>23330</td>\n",
       "      <td>23331</td>\n",
       "      <td>1</td>\n",
       "      <td>#sunbury, #pennsylvania :  fliers posted outsi...</td>\n",
       "      <td>sunbury pennsylvania flier posted outside mosq...</td>\n",
       "    </tr>\n",
       "    <tr>\n",
       "      <th>14997</th>\n",
       "      <td>11597</td>\n",
       "      <td>11598</td>\n",
       "      <td>0</td>\n",
       "      <td>thx you for gift... my best friend #flower #sh...</td>\n",
       "      <td>thx gift best friend flower shoe adidad bff bd...</td>\n",
       "    </tr>\n",
       "    <tr>\n",
       "      <th>14998</th>\n",
       "      <td>6540</td>\n",
       "      <td>6541</td>\n",
       "      <td>0</td>\n",
       "      <td>@user thanks. i will. just called mohammed on ...</td>\n",
       "      <td>thanks called mohammed helpline amazing proble...</td>\n",
       "    </tr>\n",
       "    <tr>\n",
       "      <th>14999</th>\n",
       "      <td>8210</td>\n",
       "      <td>8211</td>\n",
       "      <td>0</td>\n",
       "      <td>i wanna go home...being around the person that...</td>\n",
       "      <td>wanna go home around person rejected aggravati...</td>\n",
       "    </tr>\n",
       "  </tbody>\n",
       "</table>\n",
       "<p>15000 rows × 5 columns</p>\n",
       "</div>\n",
       "      <button class=\"colab-df-convert\" onclick=\"convertToInteractive('df-e0dde111-4571-45f3-b5af-048528f6a4d2')\"\n",
       "              title=\"Convert this dataframe to an interactive table.\"\n",
       "              style=\"display:none;\">\n",
       "        \n",
       "  <svg xmlns=\"http://www.w3.org/2000/svg\" height=\"24px\"viewBox=\"0 0 24 24\"\n",
       "       width=\"24px\">\n",
       "    <path d=\"M0 0h24v24H0V0z\" fill=\"none\"/>\n",
       "    <path d=\"M18.56 5.44l.94 2.06.94-2.06 2.06-.94-2.06-.94-.94-2.06-.94 2.06-2.06.94zm-11 1L8.5 8.5l.94-2.06 2.06-.94-2.06-.94L8.5 2.5l-.94 2.06-2.06.94zm10 10l.94 2.06.94-2.06 2.06-.94-2.06-.94-.94-2.06-.94 2.06-2.06.94z\"/><path d=\"M17.41 7.96l-1.37-1.37c-.4-.4-.92-.59-1.43-.59-.52 0-1.04.2-1.43.59L10.3 9.45l-7.72 7.72c-.78.78-.78 2.05 0 2.83L4 21.41c.39.39.9.59 1.41.59.51 0 1.02-.2 1.41-.59l7.78-7.78 2.81-2.81c.8-.78.8-2.07 0-2.86zM5.41 20L4 18.59l7.72-7.72 1.47 1.35L5.41 20z\"/>\n",
       "  </svg>\n",
       "      </button>\n",
       "      \n",
       "  <style>\n",
       "    .colab-df-container {\n",
       "      display:flex;\n",
       "      flex-wrap:wrap;\n",
       "      gap: 12px;\n",
       "    }\n",
       "\n",
       "    .colab-df-convert {\n",
       "      background-color: #E8F0FE;\n",
       "      border: none;\n",
       "      border-radius: 50%;\n",
       "      cursor: pointer;\n",
       "      display: none;\n",
       "      fill: #1967D2;\n",
       "      height: 32px;\n",
       "      padding: 0 0 0 0;\n",
       "      width: 32px;\n",
       "    }\n",
       "\n",
       "    .colab-df-convert:hover {\n",
       "      background-color: #E2EBFA;\n",
       "      box-shadow: 0px 1px 2px rgba(60, 64, 67, 0.3), 0px 1px 3px 1px rgba(60, 64, 67, 0.15);\n",
       "      fill: #174EA6;\n",
       "    }\n",
       "\n",
       "    [theme=dark] .colab-df-convert {\n",
       "      background-color: #3B4455;\n",
       "      fill: #D2E3FC;\n",
       "    }\n",
       "\n",
       "    [theme=dark] .colab-df-convert:hover {\n",
       "      background-color: #434B5C;\n",
       "      box-shadow: 0px 1px 3px 1px rgba(0, 0, 0, 0.15);\n",
       "      filter: drop-shadow(0px 1px 2px rgba(0, 0, 0, 0.3));\n",
       "      fill: #FFFFFF;\n",
       "    }\n",
       "  </style>\n",
       "\n",
       "      <script>\n",
       "        const buttonEl =\n",
       "          document.querySelector('#df-e0dde111-4571-45f3-b5af-048528f6a4d2 button.colab-df-convert');\n",
       "        buttonEl.style.display =\n",
       "          google.colab.kernel.accessAllowed ? 'block' : 'none';\n",
       "\n",
       "        async function convertToInteractive(key) {\n",
       "          const element = document.querySelector('#df-e0dde111-4571-45f3-b5af-048528f6a4d2');\n",
       "          const dataTable =\n",
       "            await google.colab.kernel.invokeFunction('convertToInteractive',\n",
       "                                                     [key], {});\n",
       "          if (!dataTable) return;\n",
       "\n",
       "          const docLinkHtml = 'Like what you see? Visit the ' +\n",
       "            '<a target=\"_blank\" href=https://colab.research.google.com/notebooks/data_table.ipynb>data table notebook</a>'\n",
       "            + ' to learn more about interactive tables.';\n",
       "          element.innerHTML = '';\n",
       "          dataTable['output_type'] = 'display_data';\n",
       "          await google.colab.output.renderOutput(dataTable, element);\n",
       "          const docLink = document.createElement('div');\n",
       "          docLink.innerHTML = docLinkHtml;\n",
       "          element.appendChild(docLink);\n",
       "        }\n",
       "      </script>\n",
       "    </div>\n",
       "  </div>\n",
       "  "
      ],
      "text/plain": [
       "       index     id  label                                              tweet  \\\n",
       "0       1687   1688      0  3 hours to go until our music video is release...   \n",
       "1       3327   3328      0  orlando massacre: what we need to say - grazia      \n",
       "2       6495   6496      0  looks like #canadians #cared more abt #america...   \n",
       "3       3271   3272      0  @user @user @user nobody helping since days fo...   \n",
       "4      20915  20916      1  #newyear 'wish list' of  cretin #carlpaladino,...   \n",
       "...      ...    ...    ...                                                ...   \n",
       "14995  11412  11413      0   @user it's #bihdaybash in #atlanta we love to...   \n",
       "14996  23330  23331      1  #sunbury, #pennsylvania :  fliers posted outsi...   \n",
       "14997  11597  11598      0  thx you for gift... my best friend #flower #sh...   \n",
       "14998   6540   6541      0  @user thanks. i will. just called mohammed on ...   \n",
       "14999   8210   8211      0  i wanna go home...being around the person that...   \n",
       "\n",
       "                                         normalized_text  \n",
       "0      hour go music video released music edinburgh s...  \n",
       "1                       orlando massacre need say grazia  \n",
       "2      look like canadian cared abt american slaughte...  \n",
       "3      nobody helping since day complaint ref nothing...  \n",
       "4      newyear wish list cretin carlpaladino election...  \n",
       "...                                                  ...  \n",
       "14995  bihdaybash atlanta love see lady newhair get f...  \n",
       "14996  sunbury pennsylvania flier posted outside mosq...  \n",
       "14997  thx gift best friend flower shoe adidad bff bd...  \n",
       "14998  thanks called mohammed helpline amazing proble...  \n",
       "14999  wanna go home around person rejected aggravati...  \n",
       "\n",
       "[15000 rows x 5 columns]"
      ]
     },
     "execution_count": 17,
     "metadata": {},
     "output_type": "execute_result"
    }
   ],
   "source": [
    "df1=df1.reset_index()\n",
    "df1"
   ]
  },
  {
   "cell_type": "code",
   "execution_count": 18,
   "metadata": {
    "colab": {
     "base_uri": "https://localhost:8080/",
     "height": 178
    },
    "id": "gD-VNlorUCrE",
    "outputId": "3d1f1d2e-d631-4369-c152-10a920c757d8",
    "pycharm": {
     "name": "#%%\n"
    }
   },
   "outputs": [
    {
     "name": "stdout",
     "output_type": "stream",
     "text": [
      "15000\n"
     ]
    },
    {
     "data": {
      "text/html": [
       "<style>#sk-container-id-1 {color: black;background-color: white;}#sk-container-id-1 pre{padding: 0;}#sk-container-id-1 div.sk-toggleable {background-color: white;}#sk-container-id-1 label.sk-toggleable__label {cursor: pointer;display: block;width: 100%;margin-bottom: 0;padding: 0.3em;box-sizing: border-box;text-align: center;}#sk-container-id-1 label.sk-toggleable__label-arrow:before {content: \"▸\";float: left;margin-right: 0.25em;color: #696969;}#sk-container-id-1 label.sk-toggleable__label-arrow:hover:before {color: black;}#sk-container-id-1 div.sk-estimator:hover label.sk-toggleable__label-arrow:before {color: black;}#sk-container-id-1 div.sk-toggleable__content {max-height: 0;max-width: 0;overflow: hidden;text-align: left;background-color: #f0f8ff;}#sk-container-id-1 div.sk-toggleable__content pre {margin: 0.2em;color: black;border-radius: 0.25em;background-color: #f0f8ff;}#sk-container-id-1 input.sk-toggleable__control:checked~div.sk-toggleable__content {max-height: 200px;max-width: 100%;overflow: auto;}#sk-container-id-1 input.sk-toggleable__control:checked~label.sk-toggleable__label-arrow:before {content: \"▾\";}#sk-container-id-1 div.sk-estimator input.sk-toggleable__control:checked~label.sk-toggleable__label {background-color: #d4ebff;}#sk-container-id-1 div.sk-label input.sk-toggleable__control:checked~label.sk-toggleable__label {background-color: #d4ebff;}#sk-container-id-1 input.sk-hidden--visually {border: 0;clip: rect(1px 1px 1px 1px);clip: rect(1px, 1px, 1px, 1px);height: 1px;margin: -1px;overflow: hidden;padding: 0;position: absolute;width: 1px;}#sk-container-id-1 div.sk-estimator {font-family: monospace;background-color: #f0f8ff;border: 1px dotted black;border-radius: 0.25em;box-sizing: border-box;margin-bottom: 0.5em;}#sk-container-id-1 div.sk-estimator:hover {background-color: #d4ebff;}#sk-container-id-1 div.sk-parallel-item::after {content: \"\";width: 100%;border-bottom: 1px solid gray;flex-grow: 1;}#sk-container-id-1 div.sk-label:hover label.sk-toggleable__label {background-color: #d4ebff;}#sk-container-id-1 div.sk-serial::before {content: \"\";position: absolute;border-left: 1px solid gray;box-sizing: border-box;top: 0;bottom: 0;left: 50%;z-index: 0;}#sk-container-id-1 div.sk-serial {display: flex;flex-direction: column;align-items: center;background-color: white;padding-right: 0.2em;padding-left: 0.2em;position: relative;}#sk-container-id-1 div.sk-item {position: relative;z-index: 1;}#sk-container-id-1 div.sk-parallel {display: flex;align-items: stretch;justify-content: center;background-color: white;position: relative;}#sk-container-id-1 div.sk-item::before, #sk-container-id-1 div.sk-parallel-item::before {content: \"\";position: absolute;border-left: 1px solid gray;box-sizing: border-box;top: 0;bottom: 0;left: 50%;z-index: -1;}#sk-container-id-1 div.sk-parallel-item {display: flex;flex-direction: column;z-index: 1;position: relative;background-color: white;}#sk-container-id-1 div.sk-parallel-item:first-child::after {align-self: flex-end;width: 50%;}#sk-container-id-1 div.sk-parallel-item:last-child::after {align-self: flex-start;width: 50%;}#sk-container-id-1 div.sk-parallel-item:only-child::after {width: 0;}#sk-container-id-1 div.sk-dashed-wrapped {border: 1px dashed gray;margin: 0 0.4em 0.5em 0.4em;box-sizing: border-box;padding-bottom: 0.4em;background-color: white;}#sk-container-id-1 div.sk-label label {font-family: monospace;font-weight: bold;display: inline-block;line-height: 1.2em;}#sk-container-id-1 div.sk-label-container {text-align: center;}#sk-container-id-1 div.sk-container {/* jupyter's `normalize.less` sets `[hidden] { display: none; }` but bootstrap.min.css set `[hidden] { display: none !important; }` so we also need the `!important` here to be able to override the default hidden behavior on the sphinx rendered scikit-learn.org. See: https://github.com/scikit-learn/scikit-learn/issues/21755 */display: inline-block !important;position: relative;}#sk-container-id-1 div.sk-text-repr-fallback {display: none;}</style><div id=\"sk-container-id-1\" class=\"sk-top-container\"><div class=\"sk-text-repr-fallback\"><pre>CountVectorizer(stop_words=[&#x27;i&#x27;, &#x27;me&#x27;, &#x27;my&#x27;, &#x27;myself&#x27;, &#x27;we&#x27;, &#x27;our&#x27;, &#x27;ours&#x27;,\n",
       "                            &#x27;ourselves&#x27;, &#x27;you&#x27;, &quot;you&#x27;re&quot;, &quot;you&#x27;ve&quot;, &quot;you&#x27;ll&quot;,\n",
       "                            &quot;you&#x27;d&quot;, &#x27;your&#x27;, &#x27;yours&#x27;, &#x27;yourself&#x27;, &#x27;yourselves&#x27;,\n",
       "                            &#x27;he&#x27;, &#x27;him&#x27;, &#x27;his&#x27;, &#x27;himself&#x27;, &#x27;she&#x27;, &quot;she&#x27;s&quot;,\n",
       "                            &#x27;her&#x27;, &#x27;hers&#x27;, &#x27;herself&#x27;, &#x27;it&#x27;, &quot;it&#x27;s&quot;, &#x27;its&#x27;,\n",
       "                            &#x27;itself&#x27;, ...])</pre><b>In a Jupyter environment, please rerun this cell to show the HTML representation or trust the notebook. <br />On GitHub, the HTML representation is unable to render, please try loading this page with nbviewer.org.</b></div><div class=\"sk-container\" hidden><div class=\"sk-item\"><div class=\"sk-estimator sk-toggleable\"><input class=\"sk-toggleable__control sk-hidden--visually\" id=\"sk-estimator-id-1\" type=\"checkbox\" checked><label for=\"sk-estimator-id-1\" class=\"sk-toggleable__label sk-toggleable__label-arrow\">CountVectorizer</label><div class=\"sk-toggleable__content\"><pre>CountVectorizer(stop_words=[&#x27;i&#x27;, &#x27;me&#x27;, &#x27;my&#x27;, &#x27;myself&#x27;, &#x27;we&#x27;, &#x27;our&#x27;, &#x27;ours&#x27;,\n",
       "                            &#x27;ourselves&#x27;, &#x27;you&#x27;, &quot;you&#x27;re&quot;, &quot;you&#x27;ve&quot;, &quot;you&#x27;ll&quot;,\n",
       "                            &quot;you&#x27;d&quot;, &#x27;your&#x27;, &#x27;yours&#x27;, &#x27;yourself&#x27;, &#x27;yourselves&#x27;,\n",
       "                            &#x27;he&#x27;, &#x27;him&#x27;, &#x27;his&#x27;, &#x27;himself&#x27;, &#x27;she&#x27;, &quot;she&#x27;s&quot;,\n",
       "                            &#x27;her&#x27;, &#x27;hers&#x27;, &#x27;herself&#x27;, &#x27;it&#x27;, &quot;it&#x27;s&quot;, &#x27;its&#x27;,\n",
       "                            &#x27;itself&#x27;, ...])</pre></div></div></div></div></div>"
      ],
      "text/plain": [
       "CountVectorizer(stop_words=['i', 'me', 'my', 'myself', 'we', 'our', 'ours',\n",
       "                            'ourselves', 'you', \"you're\", \"you've\", \"you'll\",\n",
       "                            \"you'd\", 'your', 'yours', 'yourself', 'yourselves',\n",
       "                            'he', 'him', 'his', 'himself', 'she', \"she's\",\n",
       "                            'her', 'hers', 'herself', 'it', \"it's\", 'its',\n",
       "                            'itself', ...])"
      ]
     },
     "execution_count": 18,
     "metadata": {},
     "output_type": "execute_result"
    }
   ],
   "source": [
    "print(len(df1))\n",
    "corpus = []\n",
    "for i in range(0,15000):\n",
    "    corpus.append(df1['normalized_text'][i])\n",
    "cv = CountVectorizer(stop_words=stopwords.words('english'))\n",
    "cv.fit(corpus)"
   ]
  },
  {
   "cell_type": "code",
   "execution_count": 19,
   "metadata": {
    "colab": {
     "base_uri": "https://localhost:8080/"
    },
    "id": "_sLsBnSIUCrE",
    "outputId": "55a2e2ad-dd06-4e08-e2ef-bbf14ae760df",
    "pycharm": {
     "is_executing": true,
     "name": "#%%\n"
    }
   },
   "outputs": [
    {
     "data": {
      "text/plain": [
       "array([[0, 0, 0, ..., 0, 0, 0],\n",
       "       [0, 0, 0, ..., 0, 0, 0],\n",
       "       [0, 0, 0, ..., 0, 0, 0],\n",
       "       ...,\n",
       "       [0, 0, 0, ..., 0, 0, 0],\n",
       "       [0, 0, 0, ..., 0, 0, 0],\n",
       "       [0, 0, 0, ..., 0, 0, 0]])"
      ]
     },
     "execution_count": 19,
     "metadata": {},
     "output_type": "execute_result"
    }
   ],
   "source": [
    "X = cv.transform(corpus).toarray()\n",
    "y = df1.iloc[:,2].values\n",
    "X"
   ]
  },
  {
   "cell_type": "code",
   "execution_count": 20,
   "metadata": {
    "colab": {
     "base_uri": "https://localhost:8080/"
    },
    "id": "AOfJszhx5uJq",
    "outputId": "dfadcba3-947a-4874-bcac-6fbfd6645286",
    "pycharm": {
     "name": "#%%\n"
    }
   },
   "outputs": [
    {
     "data": {
      "text/plain": [
       "(15000, 21760)"
      ]
     },
     "execution_count": 20,
     "metadata": {},
     "output_type": "execute_result"
    }
   ],
   "source": [
    "X.shape"
   ]
  },
  {
   "cell_type": "code",
   "execution_count": 21,
   "metadata": {
    "id": "79w4j5SQBlKK",
    "pycharm": {
     "name": "#%%\n"
    }
   },
   "outputs": [],
   "source": [
    "y = pd.get_dummies(y, columns = ['1', '0'])"
   ]
  },
  {
   "cell_type": "code",
   "execution_count": 22,
   "metadata": {
    "colab": {
     "base_uri": "https://localhost:8080/"
    },
    "id": "5-8vnI9kB36J",
    "outputId": "8bebf6ad-e406-4b1f-e530-e56c1dcfdca3",
    "pycharm": {
     "name": "#%%\n"
    }
   },
   "outputs": [
    {
     "data": {
      "text/plain": [
       "12758"
      ]
     },
     "execution_count": 22,
     "metadata": {},
     "output_type": "execute_result"
    }
   ],
   "source": [
    "count=0\n",
    "for i in range (0,15000):\n",
    "  if y[0][i]:\n",
    "    count+=1\n",
    "count\n",
    "# y"
   ]
  },
  {
   "cell_type": "code",
   "execution_count": 23,
   "metadata": {
    "colab": {
     "base_uri": "https://localhost:8080/"
    },
    "id": "u0xeh7CLUCrE",
    "outputId": "91a8cb1e-d0b2-4f92-ca33-1d6b597ef0c2",
    "pycharm": {
     "name": "#%%\n"
    }
   },
   "outputs": [
    {
     "data": {
      "text/plain": [
       "(12000, 21760)"
      ]
     },
     "execution_count": 23,
     "metadata": {},
     "output_type": "execute_result"
    }
   ],
   "source": [
    "X_train, X_test, y_train, y_test = train_test_split(X, y, test_size=0.2, random_state=42)\n",
    "X_train.shape"
   ]
  },
  {
   "cell_type": "code",
   "execution_count": 24,
   "metadata": {
    "id": "P7LLHV3JUCrE",
    "pycharm": {
     "name": "#%%\n"
    }
   },
   "outputs": [],
   "source": [
    "\n",
    "from keras.models import Sequential\n",
    "from keras.layers import Dense, Activation\n",
    "\n",
    "model = Sequential()\n",
    "model.add(Dense(64, activation='relu', input_shape = (21760,) ))\n",
    "model.add(Dense(32, activation='relu'))\n",
    "model.add(Dense(16, activation='relu'))\n",
    "model.add(Dense(8, activation='relu'))\n",
    "model.add(Dense(2, activation='softmax'))\n",
    "\n",
    "model.compile(optimizer='adam', loss='binary_crossentropy', metrics=['accuracy'])"
   ]
  },
  {
   "cell_type": "code",
   "execution_count": null,
   "metadata": {
    "id": "h4Dhy7fwUCrE",
    "pycharm": {
     "name": "#%%\n"
    }
   },
   "outputs": [],
   "source": [
    "# model.fit(X_train, y_train, epochs=10, batch_size=32, validation_split = .2)"
   ]
  },
  {
   "cell_type": "code",
   "execution_count": 25,
   "metadata": {
    "colab": {
     "base_uri": "https://localhost:8080/"
    },
    "id": "DYkstZoUUCrF",
    "outputId": "bd53395e-4c50-4320-bbf0-dd55b301c9a1",
    "pycharm": {
     "name": "#%%\n"
    }
   },
   "outputs": [
    {
     "name": "stdout",
     "output_type": "stream",
     "text": [
      "Model: \"sequential\"\n",
      "_________________________________________________________________\n",
      " Layer (type)                Output Shape              Param #   \n",
      "=================================================================\n",
      " dense (Dense)               (None, 64)                1392704   \n",
      "                                                                 \n",
      " dense_1 (Dense)             (None, 32)                2080      \n",
      "                                                                 \n",
      " dense_2 (Dense)             (None, 16)                528       \n",
      "                                                                 \n",
      " dense_3 (Dense)             (None, 8)                 136       \n",
      "                                                                 \n",
      " dense_4 (Dense)             (None, 2)                 18        \n",
      "                                                                 \n",
      "=================================================================\n",
      "Total params: 1,395,466\n",
      "Trainable params: 1,395,466\n",
      "Non-trainable params: 0\n",
      "_________________________________________________________________\n"
     ]
    }
   ],
   "source": [
    "model.summary()"
   ]
  },
  {
   "cell_type": "code",
   "execution_count": 26,
   "metadata": {
    "colab": {
     "base_uri": "https://localhost:8080/"
    },
    "id": "LWZH3eJNUCrF",
    "outputId": "3770e4ea-9ddf-4cf8-db1f-699da34b519a",
    "pycharm": {
     "name": "#%%\n"
    }
   },
   "outputs": [
    {
     "name": "stdout",
     "output_type": "stream",
     "text": [
      "Epoch 1/5\n",
      "75/75 [==============================] - 9s 101ms/step - loss: 0.6109 - accuracy: 0.8402 - val_loss: 0.4180 - val_accuracy: 0.8767\n",
      "Epoch 2/5\n",
      "75/75 [==============================] - 4s 50ms/step - loss: 0.2242 - accuracy: 0.9343 - val_loss: 0.2034 - val_accuracy: 0.9329\n",
      "Epoch 3/5\n",
      "75/75 [==============================] - 5s 62ms/step - loss: 0.0683 - accuracy: 0.9796 - val_loss: 0.2166 - val_accuracy: 0.9304\n",
      "Epoch 4/5\n",
      "75/75 [==============================] - 4s 52ms/step - loss: 0.0281 - accuracy: 0.9919 - val_loss: 0.2396 - val_accuracy: 0.9346\n",
      "Epoch 5/5\n",
      "75/75 [==============================] - 4s 51ms/step - loss: 0.0133 - accuracy: 0.9960 - val_loss: 0.2766 - val_accuracy: 0.9321\n"
     ]
    },
    {
     "data": {
      "text/plain": [
       "<keras.callbacks.History at 0x7fc9ed66af80>"
      ]
     },
     "execution_count": 26,
     "metadata": {},
     "output_type": "execute_result"
    }
   ],
   "source": [
    "model.fit(X_train, y_train, epochs=5, batch_size=128, validation_split = .2)"
   ]
  },
  {
   "cell_type": "code",
   "execution_count": 27,
   "metadata": {
    "colab": {
     "base_uri": "https://localhost:8080/",
     "height": 423
    },
    "id": "wUxqTVwa876u",
    "outputId": "a83eb793-1600-4e52-d0f1-b8ba69787cab",
    "pycharm": {
     "name": "#%%\n"
    }
   },
   "outputs": [
    {
     "data": {
      "text/html": [
       "\n",
       "  <div id=\"df-4004033f-5637-4d31-9328-96e5ccbad8ad\">\n",
       "    <div class=\"colab-df-container\">\n",
       "      <div>\n",
       "<style scoped>\n",
       "    .dataframe tbody tr th:only-of-type {\n",
       "        vertical-align: middle;\n",
       "    }\n",
       "\n",
       "    .dataframe tbody tr th {\n",
       "        vertical-align: top;\n",
       "    }\n",
       "\n",
       "    .dataframe thead th {\n",
       "        text-align: right;\n",
       "    }\n",
       "</style>\n",
       "<table border=\"1\" class=\"dataframe\">\n",
       "  <thead>\n",
       "    <tr style=\"text-align: right;\">\n",
       "      <th></th>\n",
       "      <th>index</th>\n",
       "      <th>id</th>\n",
       "      <th>label</th>\n",
       "      <th>tweet</th>\n",
       "    </tr>\n",
       "  </thead>\n",
       "  <tbody>\n",
       "    <tr>\n",
       "      <th>0</th>\n",
       "      <td>20000</td>\n",
       "      <td>20001</td>\n",
       "      <td>0</td>\n",
       "      <td>finally caught up with the 21st century and si...</td>\n",
       "    </tr>\n",
       "    <tr>\n",
       "      <th>1</th>\n",
       "      <td>20001</td>\n",
       "      <td>20002</td>\n",
       "      <td>0</td>\n",
       "      <td>@user if we could get on the bus we would leav...</td>\n",
       "    </tr>\n",
       "    <tr>\n",
       "      <th>2</th>\n",
       "      <td>20002</td>\n",
       "      <td>20003</td>\n",
       "      <td>0</td>\n",
       "      <td>@user leaving day at ih belfast!    #ihbelfas...</td>\n",
       "    </tr>\n",
       "    <tr>\n",
       "      <th>3</th>\n",
       "      <td>20003</td>\n",
       "      <td>20004</td>\n",
       "      <td>0</td>\n",
       "      <td>happy sunday everybody! #sunday  #bymodels    ...</td>\n",
       "    </tr>\n",
       "    <tr>\n",
       "      <th>4</th>\n",
       "      <td>20004</td>\n",
       "      <td>20005</td>\n",
       "      <td>0</td>\n",
       "      <td>getting our puppy today   #3become4 #dory</td>\n",
       "    </tr>\n",
       "    <tr>\n",
       "      <th>...</th>\n",
       "      <td>...</td>\n",
       "      <td>...</td>\n",
       "      <td>...</td>\n",
       "      <td>...</td>\n",
       "    </tr>\n",
       "    <tr>\n",
       "      <th>4995</th>\n",
       "      <td>24995</td>\n",
       "      <td>24996</td>\n",
       "      <td>0</td>\n",
       "      <td>if you have any #questions, give us a #call, w...</td>\n",
       "    </tr>\n",
       "    <tr>\n",
       "      <th>4996</th>\n",
       "      <td>24996</td>\n",
       "      <td>24997</td>\n",
       "      <td>0</td>\n",
       "      <td>last day of school! practice today, game tomor...</td>\n",
       "    </tr>\n",
       "    <tr>\n",
       "      <th>4997</th>\n",
       "      <td>24997</td>\n",
       "      <td>24998</td>\n",
       "      <td>0</td>\n",
       "      <td>go have a listen to my new song being released...</td>\n",
       "    </tr>\n",
       "    <tr>\n",
       "      <th>4998</th>\n",
       "      <td>24998</td>\n",
       "      <td>24999</td>\n",
       "      <td>0</td>\n",
       "      <td>bad day. all my 'friends' were being very mean...</td>\n",
       "    </tr>\n",
       "    <tr>\n",
       "      <th>4999</th>\n",
       "      <td>24999</td>\n",
       "      <td>25000</td>\n",
       "      <td>0</td>\n",
       "      <td>what's happened to #haverfordwest. the town re...</td>\n",
       "    </tr>\n",
       "  </tbody>\n",
       "</table>\n",
       "<p>5000 rows × 4 columns</p>\n",
       "</div>\n",
       "      <button class=\"colab-df-convert\" onclick=\"convertToInteractive('df-4004033f-5637-4d31-9328-96e5ccbad8ad')\"\n",
       "              title=\"Convert this dataframe to an interactive table.\"\n",
       "              style=\"display:none;\">\n",
       "        \n",
       "  <svg xmlns=\"http://www.w3.org/2000/svg\" height=\"24px\"viewBox=\"0 0 24 24\"\n",
       "       width=\"24px\">\n",
       "    <path d=\"M0 0h24v24H0V0z\" fill=\"none\"/>\n",
       "    <path d=\"M18.56 5.44l.94 2.06.94-2.06 2.06-.94-2.06-.94-.94-2.06-.94 2.06-2.06.94zm-11 1L8.5 8.5l.94-2.06 2.06-.94-2.06-.94L8.5 2.5l-.94 2.06-2.06.94zm10 10l.94 2.06.94-2.06 2.06-.94-2.06-.94-.94-2.06-.94 2.06-2.06.94z\"/><path d=\"M17.41 7.96l-1.37-1.37c-.4-.4-.92-.59-1.43-.59-.52 0-1.04.2-1.43.59L10.3 9.45l-7.72 7.72c-.78.78-.78 2.05 0 2.83L4 21.41c.39.39.9.59 1.41.59.51 0 1.02-.2 1.41-.59l7.78-7.78 2.81-2.81c.8-.78.8-2.07 0-2.86zM5.41 20L4 18.59l7.72-7.72 1.47 1.35L5.41 20z\"/>\n",
       "  </svg>\n",
       "      </button>\n",
       "      \n",
       "  <style>\n",
       "    .colab-df-container {\n",
       "      display:flex;\n",
       "      flex-wrap:wrap;\n",
       "      gap: 12px;\n",
       "    }\n",
       "\n",
       "    .colab-df-convert {\n",
       "      background-color: #E8F0FE;\n",
       "      border: none;\n",
       "      border-radius: 50%;\n",
       "      cursor: pointer;\n",
       "      display: none;\n",
       "      fill: #1967D2;\n",
       "      height: 32px;\n",
       "      padding: 0 0 0 0;\n",
       "      width: 32px;\n",
       "    }\n",
       "\n",
       "    .colab-df-convert:hover {\n",
       "      background-color: #E2EBFA;\n",
       "      box-shadow: 0px 1px 2px rgba(60, 64, 67, 0.3), 0px 1px 3px 1px rgba(60, 64, 67, 0.15);\n",
       "      fill: #174EA6;\n",
       "    }\n",
       "\n",
       "    [theme=dark] .colab-df-convert {\n",
       "      background-color: #3B4455;\n",
       "      fill: #D2E3FC;\n",
       "    }\n",
       "\n",
       "    [theme=dark] .colab-df-convert:hover {\n",
       "      background-color: #434B5C;\n",
       "      box-shadow: 0px 1px 3px 1px rgba(0, 0, 0, 0.15);\n",
       "      filter: drop-shadow(0px 1px 2px rgba(0, 0, 0, 0.3));\n",
       "      fill: #FFFFFF;\n",
       "    }\n",
       "  </style>\n",
       "\n",
       "      <script>\n",
       "        const buttonEl =\n",
       "          document.querySelector('#df-4004033f-5637-4d31-9328-96e5ccbad8ad button.colab-df-convert');\n",
       "        buttonEl.style.display =\n",
       "          google.colab.kernel.accessAllowed ? 'block' : 'none';\n",
       "\n",
       "        async function convertToInteractive(key) {\n",
       "          const element = document.querySelector('#df-4004033f-5637-4d31-9328-96e5ccbad8ad');\n",
       "          const dataTable =\n",
       "            await google.colab.kernel.invokeFunction('convertToInteractive',\n",
       "                                                     [key], {});\n",
       "          if (!dataTable) return;\n",
       "\n",
       "          const docLinkHtml = 'Like what you see? Visit the ' +\n",
       "            '<a target=\"_blank\" href=https://colab.research.google.com/notebooks/data_table.ipynb>data table notebook</a>'\n",
       "            + ' to learn more about interactive tables.';\n",
       "          element.innerHTML = '';\n",
       "          dataTable['output_type'] = 'display_data';\n",
       "          await google.colab.output.renderOutput(dataTable, element);\n",
       "          const docLink = document.createElement('div');\n",
       "          docLink.innerHTML = docLinkHtml;\n",
       "          element.appendChild(docLink);\n",
       "        }\n",
       "      </script>\n",
       "    </div>\n",
       "  </div>\n",
       "  "
      ],
      "text/plain": [
       "      index     id  label                                              tweet\n",
       "0     20000  20001      0  finally caught up with the 21st century and si...\n",
       "1     20001  20002      0  @user if we could get on the bus we would leav...\n",
       "2     20002  20003      0   @user leaving day at ih belfast!    #ihbelfas...\n",
       "3     20003  20004      0  happy sunday everybody! #sunday  #bymodels    ...\n",
       "4     20004  20005      0          getting our puppy today   #3become4 #dory\n",
       "...     ...    ...    ...                                                ...\n",
       "4995  24995  24996      0  if you have any #questions, give us a #call, w...\n",
       "4996  24996  24997      0  last day of school! practice today, game tomor...\n",
       "4997  24997  24998      0  go have a listen to my new song being released...\n",
       "4998  24998  24999      0  bad day. all my 'friends' were being very mean...\n",
       "4999  24999  25000      0  what's happened to #haverfordwest. the town re...\n",
       "\n",
       "[5000 rows x 4 columns]"
      ]
     },
     "execution_count": 27,
     "metadata": {},
     "output_type": "execute_result"
    }
   ],
   "source": [
    "df1 = pd.read_csv('train.csv', encoding = \"ISO-8859-1\") \n",
    "df1.head()\n",
    "df1=df1[20000:25000]\n",
    "df1.shape\n",
    "df1.isna().sum()\n",
    "df1=df1.reset_index()\n",
    "df1"
   ]
  },
  {
   "cell_type": "code",
   "execution_count": 28,
   "metadata": {
    "id": "9SOSHYxm871_",
    "pycharm": {
     "name": "#%%\n"
    }
   },
   "outputs": [],
   "source": [
    "df1['normalized_text'] = df1.tweet.apply(normalizer)\n",
    "corpus=[]\n",
    "for i in range(0,5000):\n",
    "    corpus.append(df1['normalized_text'][i])"
   ]
  },
  {
   "cell_type": "code",
   "execution_count": 31,
   "metadata": {
    "id": "Z4Dt-CDT87x0",
    "pycharm": {
     "name": "#%%\n"
    }
   },
   "outputs": [],
   "source": [
    "X = cv.transform(corpus).toarray()\n",
    "y = df1.iloc[:,2].values\n",
    "y = pd.get_dummies(y, columns = ['1', '0'])"
   ]
  },
  {
   "cell_type": "code",
   "execution_count": 32,
   "metadata": {
    "colab": {
     "base_uri": "https://localhost:8080/"
    },
    "id": "84Bfs6gu87ve",
    "outputId": "f8e724f5-74d7-4f61-d849-7331d1fb862d",
    "pycharm": {
     "name": "#%%\n"
    }
   },
   "outputs": [
    {
     "data": {
      "text/plain": [
       "(5000, 2)"
      ]
     },
     "execution_count": 32,
     "metadata": {},
     "output_type": "execute_result"
    }
   ],
   "source": [
    "X.shape\n",
    "y.shape\n",
    "# np.unique(y)"
   ]
  },
  {
   "cell_type": "code",
   "execution_count": 33,
   "metadata": {
    "colab": {
     "base_uri": "https://localhost:8080/"
    },
    "id": "PWbJxrsn87tI",
    "outputId": "0ef709a4-87e1-446e-8551-5a9956552952",
    "pycharm": {
     "name": "#%%\n"
    }
   },
   "outputs": [
    {
     "name": "stdout",
     "output_type": "stream",
     "text": [
      "157/157 [==============================] - 1s 7ms/step\n"
     ]
    }
   ],
   "source": [
    "sol = model.predict(X)"
   ]
  },
  {
   "cell_type": "code",
   "execution_count": 34,
   "metadata": {
    "colab": {
     "base_uri": "https://localhost:8080/"
    },
    "id": "EabJNqQp-0Sy",
    "outputId": "1956271e-269a-4d49-c80d-b1410bb7ae70",
    "pycharm": {
     "name": "#%%\n"
    }
   },
   "outputs": [
    {
     "name": "stdout",
     "output_type": "stream",
     "text": [
      "[0, 0, 0, 0, 0, 0, 0, 0, 0, 0, 0, 0, 0, 1, 1, 0, 0, 0, 0, 0, 0, 1, 0, 0, 0, 0, 0, 0, 0, 0, 0, 0, 0, 1, 0, 0, 0, 0, 0, 0, 0, 0, 0, 0, 0, 1, 0, 0, 1, 0, 1, 0, 0, 0, 0, 0, 0, 1, 0, 0, 1, 0, 0, 1, 1, 0, 0, 0, 1, 0, 0, 0, 0, 0, 0, 0, 0, 0, 0, 0, 0, 0, 0, 0, 0, 1, 0, 0, 0, 0, 0, 0, 1, 0, 0, 0, 0, 0, 0, 0, 0, 0, 0, 0, 0, 0, 0, 0, 0, 0, 0, 1, 0, 0, 1, 0, 0, 0, 0, 0, 0, 1, 0, 0, 0, 0, 0, 0, 0, 0, 0, 0, 0, 1, 0, 0, 1, 0, 1, 0, 0, 0, 0, 0, 0, 0, 0, 0, 0, 0, 0, 0, 0, 0, 0, 0, 0, 0, 0, 0, 0, 1, 0, 0, 0, 0, 0, 0, 0, 0, 0, 0, 0, 0, 0, 0, 0, 0, 0, 0, 0, 0, 0, 0, 0, 0, 0, 0, 0, 0, 1, 0, 0, 0, 0, 0, 0, 0, 0, 0, 0, 0, 0, 0, 0, 0, 0, 0, 0, 0, 0, 0, 0, 0, 0, 0, 0, 0, 0, 1, 0, 0, 1, 0, 0, 0, 0, 0, 0, 0, 0, 0, 0, 1, 0, 0, 0, 0, 0, 0, 0, 0, 0, 0, 0, 0, 1, 0, 0, 0, 0, 0, 0, 0, 0, 0, 0, 0, 0, 1, 0, 0, 0, 1, 0, 1, 0, 0, 0, 1, 0, 0, 0, 0, 0, 0, 0, 1, 0, 0, 0, 0, 0, 0, 0, 0, 0, 0, 0, 1, 0, 0, 0, 0, 1, 0, 0, 0, 0, 0, 0, 0, 0, 0, 0, 0, 0, 0, 0, 0, 0, 0, 0, 0, 0, 0, 0, 0, 0, 1, 0, 0, 1, 1, 0, 0, 1, 0, 0, 0, 0, 1, 0, 0, 0, 0, 0, 0, 0, 0, 0, 0, 0, 0, 0, 0, 0, 0, 0, 0, 0, 0, 0, 0, 0, 0, 0, 0, 0, 0, 0, 1, 0, 0, 0, 0, 0, 0, 0, 0, 0, 0, 0, 0, 0, 0, 0, 0, 0, 0, 1, 0, 0, 0, 0, 0, 0, 0, 0, 0, 0, 0, 0, 0, 0, 0, 0, 0, 0, 0, 0, 0, 0, 0, 0, 0, 0, 0, 0, 0, 0, 0, 1, 0, 0, 0, 0, 0, 0, 0, 0, 0, 0, 1, 0, 0, 0, 1, 0, 0, 0, 0, 0, 0, 1, 0, 0, 0, 0, 0, 0, 0, 0, 0, 0, 0, 0, 0, 0, 0, 0, 0, 0, 0, 1, 0, 0, 0, 0, 0, 0, 0, 0, 0, 1, 0, 0, 0, 0, 0, 0, 0, 1, 0, 0, 0, 0, 0, 0, 0, 0, 0, 0, 0, 0, 0, 0, 0, 0, 0, 0, 0, 0, 0, 0, 0, 0, 1, 0, 0, 0, 0, 0, 0, 0, 0, 0, 0, 0, 0, 0, 0, 0, 0, 0, 0, 0, 1, 0, 0, 0, 1, 0, 0, 0, 0, 0, 0, 0, 0, 0, 0, 0, 0, 0, 0, 0, 0, 0, 0, 0, 0, 0, 0, 0, 0, 0, 0, 0, 0, 0, 0, 0, 0, 0, 0, 1, 0, 0, 0, 0, 0, 0, 0, 0, 0, 0, 0, 0, 0, 0, 0, 0, 0, 0, 1, 0, 0, 0, 0, 0, 0, 0, 0, 0, 0, 0, 0, 0, 0, 0, 0, 0, 0, 0, 0, 0, 0, 0, 0, 0, 0, 0, 0, 0, 0, 0, 0, 0, 0, 0, 0, 0, 0, 0, 0, 1, 0, 0, 0, 0, 0, 0, 0, 0, 0, 0, 0, 0, 0, 0, 0, 0, 0, 0, 0, 0, 0, 0, 0, 1, 0, 0, 0, 0, 0, 0, 0, 0, 0, 0, 1, 0, 0, 1, 0, 0, 0, 0, 0, 0, 0, 1, 0, 0, 0, 0, 1, 1, 0, 0, 0, 0, 0, 0, 0, 0, 0, 0, 0, 0, 0, 1, 0, 0, 0, 0, 0, 0, 0, 0, 0, 0, 0, 0, 0, 0, 0, 0, 0, 0, 0, 0, 0, 0, 0, 0, 0, 0, 0, 0, 0, 0, 0, 0, 0, 0, 0, 0, 0, 0, 0, 0, 0, 0, 0, 0, 0, 0, 0, 0, 0, 1, 0, 0, 0, 0, 0, 0, 0, 0, 0, 0, 0, 0, 0, 1, 0, 0, 0, 0, 0, 0, 0, 0, 0, 0, 0, 0, 0, 0, 0, 0, 0, 0, 0, 0, 0, 0, 0, 0, 0, 0, 0, 0, 0, 1, 0, 0, 0, 0, 0, 0, 0, 0, 0, 0, 1, 0, 0, 1, 0, 0, 0, 0, 0, 0, 0, 0, 0, 0, 1, 0, 1, 0, 0, 0, 0, 0, 0, 0, 0, 0, 1, 0, 0, 0, 0, 0, 1, 0, 0, 0, 0, 0, 0, 0, 0, 1, 1, 0, 0, 0, 0, 0, 0, 0, 0, 0, 1, 0, 0, 0, 0, 0, 0, 0, 0, 0, 0, 0, 0, 0, 0, 0, 0, 0, 0, 1, 0, 0, 0, 0, 0, 1, 0, 1, 0, 0, 0, 0, 0, 0, 0, 0, 0, 0, 0, 0, 0, 0, 0, 0, 0, 0, 0, 0, 1, 0, 0, 0, 0, 0, 0, 0, 0, 0, 0, 0, 0, 0, 0, 0, 0, 0, 0, 0, 0, 0, 0, 0, 0, 1, 0, 0, 1, 0, 0, 0, 0, 0, 0, 0, 0, 1, 0, 0, 0, 0, 0, 0, 0, 0, 0, 0, 0, 0, 0, 0, 0, 0, 0, 0, 0, 0, 0, 0, 0, 0, 0, 0, 0, 0, 0, 0, 0, 0, 1, 0, 0, 0, 0, 0, 0, 0, 0, 0, 0, 0, 0, 0, 1, 0, 0, 0, 0, 0, 0, 1, 0, 0, 0, 1, 1, 0, 0, 0, 0, 0, 0, 0, 0, 0, 1, 0, 0, 0, 0, 0, 0, 0, 0, 0, 0, 0, 0, 0, 0, 0, 0, 0, 0, 0, 0, 0, 0, 0, 0, 0, 0, 0, 0, 0, 0, 0, 0, 0, 0, 0, 0, 0, 1, 0, 1, 0, 0, 0, 0, 0, 0, 0, 0, 0, 1, 0, 0, 0, 0, 0, 0, 1, 0, 0, 0, 0, 0, 0, 0, 0, 0, 0, 0, 0, 0, 0, 0, 0, 0, 0, 0, 0, 0, 0, 0, 0, 0, 0, 0, 0, 0, 0, 0, 0, 0, 1, 0, 0, 0, 0, 0, 0, 0, 0, 0, 1, 0, 0, 0, 0, 0, 0, 0, 0, 1, 0, 0, 0, 0, 1, 0, 0, 0, 0, 0, 0, 0, 0, 0, 0, 0, 0, 1, 0, 0, 0, 0, 0, 0, 0, 0, 0, 0, 0, 0, 0, 0, 0, 0, 0, 0, 0, 0, 0, 0, 0, 0, 0, 0, 0, 0, 0, 0, 0, 0, 0, 0, 1, 0, 0, 0, 0, 1, 0, 0, 0, 0, 0, 0, 0, 0, 0, 0, 0, 0, 0, 0, 0, 1, 0, 0, 0, 0, 0, 0, 0, 1, 0, 0, 0, 0, 1, 1, 0, 0, 1, 0, 0, 0, 0, 0, 0, 0, 1, 0, 0, 1, 0, 0, 0, 0, 0, 0, 0, 0, 0, 0, 0, 1, 0, 0, 0, 0, 0, 0, 0, 0, 0, 0, 0, 0, 0, 0, 0, 0, 0, 0, 1, 0, 0, 0, 0, 1, 0, 0, 0, 0, 0, 1, 0, 1, 0, 0, 0, 0, 0, 1, 1, 0, 0, 0, 0, 0, 0, 0, 0, 0, 0, 0, 0, 0, 0, 0, 0, 0, 0, 0, 0, 0, 0, 0, 0, 0, 0, 1, 1, 0, 0, 0, 0, 0, 0, 0, 0, 0, 1, 0, 0, 0, 0, 0, 0, 1, 0, 0, 0, 0, 1, 0, 0, 0, 0, 0, 0, 1, 0, 0, 0, 1, 0, 1, 0, 0, 0, 0, 0, 0, 0, 0, 0, 0, 0, 0, 0, 0, 0, 0, 0, 0, 0, 0, 0, 0, 1, 0, 1, 0, 0, 0, 0, 0, 1, 0, 0, 0, 0, 0, 0, 0, 0, 0, 0, 0, 0, 1, 0, 1, 1, 1, 1, 0, 0, 0, 0, 0, 0, 0, 0, 0, 1, 0, 0, 0, 0, 0, 0, 1, 0, 0, 1, 0, 0, 0, 0, 0, 1, 0, 0, 0, 0, 0, 0, 0, 0, 0, 0, 0, 0, 0, 0, 0, 0, 0, 0, 0, 0, 0, 0, 1, 0, 0, 0, 0, 0, 0, 0, 0, 0, 0, 0, 0, 1, 0, 0, 0, 0, 0, 0, 0, 0, 0, 1, 0, 1, 0, 0, 0, 0, 0, 0, 0, 0, 1, 0, 0, 0, 0, 0, 0, 0, 0, 0, 0, 0, 0, 0, 0, 0, 0, 0, 0, 0, 0, 0, 0, 0, 0, 0, 1, 0, 0, 1, 0, 0, 0, 0, 1, 0, 0, 0, 0, 0, 0, 0, 0, 0, 0, 0, 0, 0, 0, 0, 0, 0, 0, 0, 0, 0, 0, 0, 0, 1, 0, 0, 0, 0, 0, 0, 0, 0, 0, 1, 0, 0, 0, 0, 0, 0, 1, 0, 0, 0, 0, 0, 0, 0, 0, 0, 0, 0, 0, 1, 0, 0, 0, 0, 1, 0, 0, 0, 0, 1, 0, 1, 0, 1, 0, 0, 0, 0, 0, 0, 0, 0, 0, 0, 0, 0, 0, 0, 0, 0, 1, 0, 0, 0, 0, 0, 0, 0, 0, 0, 0, 0, 0, 0, 0, 0, 0, 0, 0, 0, 0, 1, 0, 1, 0, 0, 0, 1, 0, 0, 0, 1, 0, 0, 0, 0, 0, 0, 0, 0, 0, 0, 0, 0, 1, 0, 0, 0, 0, 0, 1, 1, 0, 1, 0, 0, 0, 0, 0, 0, 0, 0, 0, 0, 0, 0, 0, 0, 1, 0, 0, 0, 0, 0, 0, 0, 0, 0, 1, 0, 0, 0, 0, 1, 0, 0, 0, 1, 0, 0, 0, 0, 0, 0, 0, 0, 0, 0, 0, 0, 0, 0, 0, 0, 0, 0, 0, 0, 0, 0, 0, 0, 0, 0, 0, 0, 0, 0, 1, 0, 1, 0, 0, 1, 1, 0, 0, 0, 1, 0, 0, 0, 0, 0, 1, 0, 0, 0, 0, 0, 0, 0, 0, 0, 0, 0, 0, 0, 0, 0, 0, 0, 0, 0, 0, 1, 0, 0, 0, 0, 0, 0, 0, 0, 0, 0, 0, 0, 0, 0, 0, 1, 0, 0, 0, 0, 0, 0, 1, 0, 0, 0, 0, 0, 0, 0, 1, 0, 0, 0, 0, 0, 0, 0, 0, 0, 0, 0, 1, 0, 0, 0, 0, 0, 0, 0, 0, 0, 0, 0, 0, 0, 0, 0, 0, 0, 0, 0, 0, 0, 0, 1, 0, 0, 0, 0, 0, 0, 0, 0, 1, 0, 0, 0, 0, 0, 0, 0, 0, 0, 0, 0, 1, 0, 0, 0, 0, 0, 0, 0, 0, 0, 0, 0, 0, 0, 0, 0, 0, 0, 0, 0, 0, 0, 0, 0, 0, 0, 0, 0, 0, 0, 0, 0, 0, 0, 0, 0, 1, 0, 0, 0, 0, 0, 0, 0, 0, 0, 0, 0, 0, 0, 0, 0, 1, 0, 0, 0, 0, 0, 0, 0, 0, 1, 0, 0, 1, 0, 0, 0, 0, 0, 0, 0, 0, 0, 0, 0, 0, 0, 0, 0, 0, 0, 0, 0, 0, 0, 0, 0, 0, 0, 0, 0, 0, 0, 0, 0, 0, 0, 0, 0, 1, 0, 0, 0, 0, 0, 0, 0, 1, 0, 1, 0, 1, 0, 0, 0, 0, 0, 0, 0, 0, 1, 0, 0, 0, 0, 0, 1, 1, 0, 1, 1, 0, 0, 0, 0, 0, 0, 0, 0, 0, 0, 0, 1, 0, 0, 0, 0, 0, 0, 0, 1, 1, 0, 0, 0, 0, 0, 0, 0, 0, 0, 0, 0, 0, 0, 0, 0, 0, 0, 0, 0, 0, 0, 0, 0, 0, 0, 1, 0, 0, 0, 0, 0, 0, 1, 0, 1, 0, 0, 0, 0, 0, 0, 0, 0, 0, 1, 0, 0, 0, 0, 0, 0, 0, 0, 0, 0, 0, 0, 0, 0, 0, 0, 0, 0, 0, 0, 1, 0, 0, 0, 0, 0, 0, 0, 0, 0, 0, 0, 0, 0, 1, 1, 0, 0, 0, 0, 1, 0, 0, 0, 0, 0, 0, 1, 0, 0, 0, 0, 0, 0, 0, 0, 1, 0, 0, 0, 0, 0, 0, 0, 0, 0, 0, 1, 0, 0, 0, 0, 0, 0, 1, 0, 0, 0, 0, 0, 0, 0, 0, 1, 0, 0, 0, 1, 0, 1, 0, 0, 0, 0, 0, 0, 0, 0, 0, 0, 0, 0, 0, 0, 0, 0, 0, 0, 1, 0, 0, 0, 0, 0, 0, 0, 0, 0, 0, 0, 0, 0, 0, 0, 0, 0, 0, 0, 0, 0, 0, 0, 0, 0, 0, 1, 0, 0, 1, 0, 0, 0, 0, 0, 0, 0, 0, 0, 0, 0, 0, 0, 0, 0, 0, 1, 0, 0, 0, 0, 0, 0, 0, 0, 0, 0, 0, 1, 0, 0, 0, 0, 0, 0, 0, 0, 0, 0, 0, 0, 0, 0, 0, 0, 1, 1, 0, 0, 0, 0, 0, 0, 0, 0, 0, 0, 0, 0, 0, 0, 0, 0, 0, 0, 0, 1, 1, 0, 0, 0, 0, 0, 0, 0, 0, 0, 0, 1, 0, 0, 0, 0, 0, 1, 0, 0, 0, 0, 0, 0, 0, 0, 0, 0, 0, 0, 0, 0, 1, 0, 0, 0, 0, 1, 0, 0, 0, 0, 0, 0, 0, 0, 0, 1, 0, 0, 0, 0, 0, 0, 0, 0, 0, 0, 0, 0, 0, 0, 1, 0, 0, 0, 0, 0, 1, 0, 0, 0, 0, 0, 0, 0, 0, 0, 0, 0, 0, 0, 0, 0, 0, 0, 0, 0, 0, 0, 0, 0, 0, 0, 0, 0, 1, 0, 0, 0, 0, 0, 0, 1, 0, 0, 0, 0, 0, 0, 0, 0, 0, 1, 0, 0, 0, 0, 0, 0, 0, 0, 0, 0, 0, 1, 0, 0, 0, 1, 1, 0, 1, 0, 1, 0, 0, 0, 0, 0, 0, 0, 1, 0, 0, 0, 1, 0, 0, 1, 0, 0, 0, 0, 0, 0, 0, 0, 0, 0, 1, 0, 0, 0, 0, 1, 0, 0, 0, 0, 0, 0, 1, 0, 0, 0, 0, 0, 0, 0, 1, 0, 0, 0, 0, 0, 0, 0, 1, 0, 0, 1, 0, 0, 0, 0, 0, 0, 0, 1, 1, 0, 0, 1, 0, 0, 0, 0, 0, 0, 1, 0, 0, 1, 0, 0, 0, 0, 0, 0, 0, 0, 0, 0, 0, 0, 1, 0, 1, 0, 0, 0, 0, 0, 1, 0, 0, 0, 0, 0, 0, 0, 0, 0, 0, 0, 0, 0, 0, 0, 0, 0, 0, 0, 0, 0, 0, 1, 0, 0, 0, 0, 0, 1, 1, 0, 0, 0, 0, 0, 0, 0, 0, 0, 0, 0, 0, 0, 0, 0, 0, 0, 0, 0, 0, 0, 0, 0, 0, 0, 0, 0, 0, 0, 1, 0, 0, 0, 0, 0, 0, 0, 1, 0, 0, 0, 0, 0, 0, 0, 0, 0, 1, 0, 0, 0, 0, 0, 0, 0, 0, 0, 0, 0, 0, 1, 0, 0, 0, 0, 0, 0, 1, 0, 1, 1, 0, 0, 0, 0, 1, 0, 0, 0, 0, 0, 0, 0, 0, 0, 1, 0, 0, 0, 0, 1, 0, 0, 0, 0, 1, 0, 0, 0, 0, 0, 1, 0, 0, 0, 0, 0, 1, 0, 0, 0, 0, 0, 0, 0, 0, 0, 0, 0, 0, 0, 0, 0, 0, 0, 0, 0, 0, 0, 0, 0, 0, 0, 1, 0, 0, 0, 0, 0, 0, 0, 0, 0, 0, 0, 0, 0, 0, 0, 0, 1, 0, 0, 1, 0, 0, 1, 0, 0, 0, 0, 0, 0, 0, 0, 0, 0, 0, 0, 0, 0, 0, 0, 0, 0, 1, 0, 0, 0, 0, 0, 0, 0, 0, 0, 1, 0, 0, 0, 0, 0, 0, 0, 0, 0, 0, 0, 0, 0, 0, 0, 0, 0, 0, 0, 0, 0, 0, 0, 0, 0, 0, 0, 0, 0, 0, 0, 0, 0, 0, 0, 0, 0, 0, 0, 0, 0, 0, 0, 0, 0, 0, 0, 0, 0, 0, 0, 1, 0, 0, 0, 0, 0, 0, 0, 0, 0, 0, 0, 0, 0, 0, 0, 0, 0, 0, 0, 0, 0, 0, 0, 0, 0, 0, 0, 0, 0, 0, 0, 0, 0, 0, 0, 0, 0, 0, 0, 0, 0, 1, 0, 0, 0, 0, 0, 0, 0, 0, 0, 0, 1, 0, 0, 1, 1, 0, 0, 1, 1, 0, 0, 0, 0, 0, 0, 0, 0, 0, 0, 0, 0, 0, 0, 0, 0, 0, 0, 0, 0, 0, 0, 0, 0, 0, 0, 0, 0, 0, 0, 1, 0, 0, 0, 1, 0, 0, 0, 0, 0, 0, 0, 0, 0, 0, 1, 0, 0, 0, 0, 0, 0, 1, 0, 0, 0, 0, 0, 0, 0, 0, 0, 0, 0, 0, 1, 0, 0, 0, 0, 1, 0, 0, 0, 0, 0, 0, 0, 0, 0, 0, 0, 0, 0, 0, 1, 0, 1, 0, 0, 0, 0, 0, 0, 0, 0, 0, 0, 1, 0, 0, 0, 0, 0, 0, 0, 0, 0, 0, 0, 0, 0, 1, 0, 0, 0, 0, 0, 0, 0, 0, 0, 0, 0, 0, 0, 0, 0, 0, 0, 0, 0, 0, 0, 0, 0, 0, 0, 0, 0, 0, 0, 0, 0, 1, 0, 0, 0, 0, 0, 0, 0, 0, 1, 0, 0, 1, 0, 0, 0, 0, 0, 0, 0, 0, 0, 0, 0, 0, 0, 0, 0, 0, 1, 0, 1, 0, 1, 0, 0, 0, 0, 0, 0, 0, 0, 0, 0, 0, 0, 0, 1, 0, 0, 0, 0, 0, 0, 0, 0, 0, 0, 0, 0, 0, 0, 0, 0, 1, 1, 0, 0, 0, 0, 0, 0, 0, 0, 0, 0, 1, 0, 0, 0, 0, 0, 0, 0, 0, 0, 0, 0, 0, 0, 0, 0, 0, 1, 0, 0, 0, 0, 0, 0, 0, 0, 0, 0, 0, 0, 0, 0, 0, 0, 0, 0, 0, 0, 0, 0, 0, 0, 1, 0, 0, 0, 0, 0, 0, 1, 0, 0, 0, 0, 1, 0, 0, 0, 0, 0, 0, 0, 0, 0, 0, 0, 0, 0, 0, 0, 0, 0, 0, 0, 0, 0, 0, 0, 0, 0, 1, 0, 0, 0, 0, 0, 0, 0, 0, 0, 0, 0, 0, 0, 0, 0, 0, 1, 0, 0, 0, 0, 0, 0, 0, 0, 0, 1, 0, 0, 0, 0, 0, 0, 0, 0, 0, 0, 1, 0, 0, 0, 0, 0, 0, 1, 0, 0, 1, 0, 0, 0, 0, 0, 1, 1, 0, 0, 0, 0, 0, 0, 0, 1, 0, 0, 0, 0, 0, 0, 0, 0, 0, 0, 0, 0, 0, 0, 0, 0, 0, 0, 0, 0, 0, 0, 0, 0, 0, 0, 0, 1, 0, 0, 0, 0, 0, 0, 0, 0, 0, 0, 0, 0, 0, 1, 0, 0, 0, 0, 1, 0, 1, 0, 0, 0, 0, 1, 0, 0, 0, 0, 0, 1, 0, 0, 0, 1, 0, 0, 0, 0, 1, 0, 0, 0, 0, 0, 0, 0, 0, 0, 0, 0, 0, 0, 0, 0, 0, 0, 0, 0, 0, 0, 0, 0, 0, 0, 0, 0, 0, 0, 0, 0, 0, 0, 0, 0, 0, 0, 1, 0, 0, 0, 0, 0, 0, 0, 0, 0, 0, 0, 0, 0, 0, 0, 0, 0, 1, 0, 0, 0, 0, 0, 0, 0, 0, 0, 0, 0, 0, 0, 0, 0, 0, 0, 0, 0, 0, 0, 0, 0, 0, 0, 0, 0, 0, 0, 1, 0, 0, 0, 0, 1, 1, 0, 0, 0, 0, 0, 0, 0, 0, 0, 1, 0, 0, 0, 0, 0, 0, 1, 0, 0, 0, 0, 0, 0, 1, 1, 0, 0, 0, 0, 1, 1, 0, 0, 0, 0, 0, 0, 0, 1, 0, 1, 0, 0, 0, 0, 0, 0, 0, 0, 0, 0, 0, 0, 0, 1, 0, 0, 0, 1, 0, 0, 0, 0, 0, 0, 0, 0, 0, 0, 1, 0, 0, 0, 1, 0, 0, 0, 0, 0, 0, 0, 0, 0, 0, 0, 0, 0, 0, 1, 0, 0, 0, 0, 0, 0, 0, 0, 0, 0, 0, 0, 0, 0, 0, 0, 0, 0, 0, 0, 0, 0, 0, 0, 1, 0, 0, 0, 1, 0, 0, 1, 0, 0, 0, 1, 0, 0, 0, 1, 0, 0, 0, 0, 0, 0, 0, 0, 0, 0, 0, 0, 0, 0, 0, 1, 0, 0, 0, 0, 0, 0, 0, 1, 1, 0, 0, 0, 0, 0, 0, 0, 0, 0, 0, 0, 0, 0, 0, 0, 0, 0, 0, 0, 0, 0, 1, 0, 0, 0, 0, 1, 0, 0, 0, 0, 0, 0, 0, 0, 0, 1, 0, 0, 0, 0, 0, 0, 0, 1, 1, 0, 0, 0, 0, 0, 0, 0, 0, 0, 0, 0, 0, 0, 0, 0, 0, 0, 0, 0, 0, 0, 0, 0, 0, 0, 0, 0, 0, 1, 0, 0, 0, 0, 0, 0, 0, 0, 0, 0, 0, 0, 0, 0, 0, 0, 0, 0, 0, 0, 0, 0, 0, 0, 0, 0, 0, 0, 0, 0, 0, 0, 0, 0, 0, 0, 0, 0, 0, 0, 0, 0, 0, 0, 0, 0, 0, 0, 0, 0, 0, 0, 0, 0, 0, 0, 0, 0, 0, 0, 0, 1, 0, 0, 0, 0, 0, 0, 1, 0, 1, 0, 0, 0, 0, 1, 0, 0, 0, 0, 0, 0, 0, 0, 1, 0, 0, 0, 0, 0, 0, 0, 0, 0, 0, 0, 0, 0, 0, 0, 0, 0, 0, 0, 0, 0, 0, 0, 0, 1, 0, 0, 0, 0, 1, 0, 1, 0, 1, 0, 0, 0, 0, 0, 0, 0, 0, 1, 0, 0, 0, 0, 0, 0, 0, 0, 0, 0, 0, 0, 0, 0, 1, 0, 1, 0, 0, 0, 0, 0, 0, 0, 0, 0, 0, 0, 0, 0, 1, 0, 0, 0, 0, 0, 0, 0, 0, 0, 0, 0, 1, 0, 0, 0, 0, 0, 0, 0, 0, 0, 0, 0, 0, 1, 0, 0, 1, 1, 0, 0, 1, 0, 0, 0, 0, 0, 0, 0, 0, 0, 0, 0, 0, 0, 0, 0, 0, 0, 1, 0, 0, 0, 0, 0, 0, 1, 0, 1, 0, 0, 0, 1, 0, 0, 0, 0, 0, 0, 0, 0, 0, 0, 0, 0, 0, 1, 0, 0, 0, 0, 0, 0, 0, 0, 0, 0, 0, 0, 1, 0, 0, 0, 0, 0, 1, 0, 0, 0, 0, 0, 0, 0, 0, 0, 0, 0, 0, 0, 0, 0, 0, 0, 0, 0, 0, 0, 0, 0, 1, 0, 0, 0, 0, 0, 0, 0, 0, 0, 0, 0, 0, 0, 0, 0, 0, 0, 0, 0, 0, 0, 0, 0, 0, 0, 0, 0, 0, 0, 0, 0, 0, 0, 0, 0, 0, 0, 0, 0, 0, 0, 0, 0, 0, 0, 0, 0, 0, 0, 0, 0, 0, 1, 0, 0, 0, 0, 0, 0, 1, 0, 0, 0, 0, 1, 0, 0, 0, 0, 0, 0, 0, 0, 0, 1, 0, 0, 1, 0, 0, 0, 0, 0, 0, 0, 1, 0, 0, 0, 1, 0, 0, 0, 0, 0, 1, 0, 1, 0, 0, 0, 0, 0, 0, 0, 0, 0, 0, 0, 1, 0, 0, 0, 0, 0, 0, 0, 0, 0, 0, 0, 0, 0, 0, 0, 0, 0, 0, 0, 0, 0, 0, 0, 0, 0, 0, 0, 0, 0, 0, 0, 1, 1, 0, 0, 0, 0, 0, 0, 1, 1, 0, 0, 0, 0, 0, 0, 0, 0, 0, 0, 0, 0, 0, 0, 0, 0, 0, 0, 0, 0, 0, 1, 1, 0, 0, 0, 0, 0, 0, 0, 0, 0, 0, 0, 0, 0, 0, 0, 0, 1, 0, 0, 1, 0, 1, 1, 0, 1, 0, 1, 0, 0, 0, 0, 0, 1, 0, 0, 0, 0, 0, 1, 1, 0, 0, 0, 0, 0, 0, 0, 0, 0, 0, 0, 0, 0, 0, 1, 0, 0, 0, 0, 0, 0, 0, 0, 0, 0, 0, 0, 0, 0, 0, 0, 0, 0, 0, 1, 0, 0, 0, 0, 0, 0, 1, 0, 0, 0, 0, 0, 0, 0, 0, 0, 0, 0, 0, 0, 0, 0, 0, 0, 0, 0, 0, 0, 0, 0, 1, 1, 0, 0, 0, 0, 0, 0, 0, 0, 0, 0, 0, 0, 0, 0, 0, 0, 0, 0, 0, 0, 0, 0, 0, 0, 0, 0, 0, 0, 1, 0, 0, 0, 0, 0, 0, 0, 0, 0, 0, 0, 0, 0, 0, 0, 0, 0, 0, 1, 0, 0, 0, 0, 0, 0, 0, 1, 0, 0, 0, 0, 0, 0, 0, 0, 0, 0, 0, 0, 0, 0, 0, 0, 0, 1, 0, 0, 0, 0, 0, 0, 0, 1, 0, 1, 0, 0, 0, 0, 0, 0, 1, 0, 0, 0, 0, 0, 1, 1, 0, 0, 0, 0, 0, 0, 1, 0, 1, 0, 0, 0, 0, 0, 0, 0, 0, 0, 0, 1, 0, 0, 0, 0, 0, 0, 0, 0, 0, 0, 0, 0, 0, 0, 0, 0, 0, 0, 0, 1, 0, 0, 0, 0, 0, 0, 0, 0, 0, 0, 0, 0, 1, 0, 0, 0, 0, 0, 0, 0, 1, 0, 0, 0, 1, 0, 0, 0, 0, 0, 0, 0, 0, 0, 0, 0, 0, 0, 0, 0, 0, 0, 0, 0, 1, 0, 0, 0, 1, 0, 0, 0, 0, 0, 0, 0, 0, 0, 1, 0, 0, 0, 0, 0, 1, 0, 0, 0, 0, 0, 0, 0, 0, 0, 0, 0, 0, 0, 0, 0, 0, 0, 1, 0, 0, 1, 0, 0, 0, 0, 0, 1, 0, 0, 0, 0, 0, 0, 0, 0, 0, 0, 0, 0, 0, 0, 0, 0, 0, 1, 0, 1, 0, 0, 1, 0, 0, 0, 0, 1, 0, 0, 0, 0, 0, 0, 0, 0, 0, 0, 0, 0, 0, 0, 0, 0, 1, 0, 0, 0, 0, 0, 0, 0, 0, 0, 0, 0, 0, 0, 0, 0, 0, 0, 0, 1, 0, 0, 0, 0, 0, 0, 1, 0, 0, 0, 0, 0, 0, 0, 0, 0, 0, 0, 0, 0, 0, 0, 0, 0, 0, 0, 0, 0, 0, 0, 0, 0, 0, 0, 0, 0, 0, 0, 0, 0, 0, 0, 0, 0, 0, 0, 0, 0, 0, 0, 0, 0, 0, 0, 1, 0, 0, 0, 0, 0, 1, 0, 0, 0, 0, 1, 1, 0, 0, 1, 0, 0, 0, 0, 0, 0, 0, 0, 0, 0, 0, 0, 0, 0, 0, 0, 0, 0, 0, 0, 0, 0, 0, 0, 0, 0, 0, 0, 1, 0, 0, 0, 0, 0, 0, 0, 0, 0, 0, 0, 0, 0, 0, 0, 0, 0, 0, 0, 0, 0, 0, 0, 0, 0, 0, 0, 0, 0, 0, 0, 0, 0, 0, 0, 1, 0, 0, 0, 0, 0, 0, 0, 0, 1, 0, 0, 0, 0, 0, 0, 0, 0, 0, 0, 1, 0, 0, 0, 1, 0, 0, 1, 0, 1, 0, 0, 0, 0, 0, 0, 0, 0, 0, 0, 0, 0, 0, 1, 0, 0, 0, 1, 0, 0, 0, 1, 0, 0, 0, 0, 0, 0, 0, 0, 0, 0, 0, 0, 0, 0, 0, 0, 0, 0, 0, 0, 0, 0, 0, 0, 0, 0, 0, 1, 0, 1, 1, 0, 0, 0, 0, 0, 0, 0, 0, 0, 0, 0, 0, 0, 0, 0, 0, 0, 1, 1, 0, 0, 0, 0, 0, 0, 0, 0, 0, 0, 0, 0, 0, 0, 0, 0, 0, 1, 0, 0, 1, 0, 0, 0, 0, 1, 0, 1, 0, 0, 0, 0, 0, 0, 0, 0, 0, 0, 0, 0, 0, 0, 0, 0, 0, 0, 0, 0, 0, 0, 0, 0, 0, 0, 0, 0, 0, 0, 0, 0, 0, 0, 0, 0, 0, 0, 0, 0, 0, 0, 0, 0, 0, 0, 0, 0, 0, 0, 0, 0, 0, 0, 0, 0, 0, 0, 0, 0, 0, 0, 1, 0, 0, 1, 0, 1, 0, 0, 0, 0, 0, 0, 0, 0, 0, 0, 0, 0, 0, 0, 0, 0, 0, 0, 0, 0, 0, 0, 0, 0, 0, 0, 0, 0, 0, 0, 0, 0, 0, 0, 0, 0, 0, 0, 0, 0, 0, 1, 0, 0, 1, 0, 1, 0, 0, 0, 1, 0, 0, 0, 1, 0, 0, 0, 0, 0, 0, 0, 0, 0, 0, 0, 0, 0, 0, 0, 0, 1, 0, 1, 0, 1, 0, 0, 0, 0, 0, 0, 0, 0, 0, 0, 1, 0, 0, 0, 0, 0, 0, 0, 0, 0, 0, 0, 0, 0, 0, 0, 0, 0, 0, 0, 0, 0, 0, 0, 0, 0, 0, 0, 0, 0, 0, 0, 1, 1, 0, 0, 0, 0, 0, 0, 0, 0, 0, 0, 0, 0, 0, 0, 1, 0, 1, 0, 0, 0, 0, 1, 0, 0, 0, 0, 1, 0, 0, 0, 0, 0, 0, 0, 0, 0, 0, 1, 0, 0, 0, 0, 0, 0, 0, 0, 0, 0, 0, 0, 0, 0, 0, 0, 0, 0, 0, 0, 0, 0, 1, 1, 0, 1, 0, 1, 0, 0, 0, 0, 1, 0, 0, 0, 0, 0, 1, 1, 0, 0, 0, 0, 0, 0, 0, 0, 1, 0, 0, 1, 0, 0, 1, 0, 1, 0, 0, 0, 0, 0, 0, 0, 0, 1, 0, 0, 0, 0, 0, 1, 0, 0, 0, 0, 0, 0, 0, 0, 0, 0, 0, 0, 0, 0, 0, 0, 0, 0, 1, 1, 0, 0, 0, 0, 0, 0, 0, 0, 0, 0, 1, 0, 0, 0, 0, 0, 0, 0, 0, 0, 0, 0, 0, 0, 1, 0, 0, 0, 0]\n"
     ]
    }
   ],
   "source": [
    "count=[]\n",
    "for i in range(0,5000):\n",
    "  count.append(np.argmax(sol[i]))\n",
    "print(count)\n"
   ]
  },
  {
   "cell_type": "code",
   "execution_count": 36,
   "metadata": {
    "colab": {
     "base_uri": "https://localhost:8080/",
     "height": 550
    },
    "id": "aWRTKIYB714X",
    "outputId": "d1ad05b2-2c82-456b-80e2-81177bf7274e",
    "pycharm": {
     "name": "#%%\n"
    }
   },
   "outputs": [
    {
     "data": {
      "image/png": "[encoded data removed]",
      "text/plain": [
       "<Figure size 640x480 with 2 Axes>"
      ]
     },
     "metadata": {},
     "output_type": "display_data"
    },
    {
     "name": "stdout",
     "output_type": "stream",
     "text": [
      "Accuracy   : 0.9592\n",
      "Precision : 0.6673427991886409\n",
      "Recall    : 0.8915989159891599\n",
      "F1-score  : 0.7633410672853828\n"
     ]
    }
   ],
   "source": [
    "import seaborn as sns\n",
    "import matplotlib.pyplot as plt\n",
    "from sklearn.metrics import confusion_matrix\n",
    "from sklearn.metrics import accuracy_score, precision_score, recall_score, f1_score\n",
    "\n",
    "cm=confusion_matrix(df1.iloc[:,2].values, count)\n",
    "\n",
    "\n",
    "sns.heatmap(cm,\n",
    "            annot=True,\n",
    "            fmt='g',\n",
    "            xticklabels=['Neutral','Racist'],\n",
    "            yticklabels=['Neural','Racist'])\n",
    "plt.ylabel('Actual',fontsize=13)\n",
    "plt.xlabel('Predicted',fontsize=13)\n",
    "plt.title('Confusion Matrix',fontsize=17)\n",
    "plt.show()\n",
    "\n",
    "y_test=df1.iloc[:,2].values\n",
    "y_pred=count\n",
    "accuracy = accuracy_score(y_test, y_pred)\n",
    "print(\"Accuracy   :\", accuracy)\n",
    "precision = precision_score(y_test, y_pred)\n",
    "print(\"Precision :\", precision)\n",
    "recall = recall_score(y_test, y_pred)\n",
    "print(\"Recall    :\", recall)\n",
    "F1_score = f1_score(y_test, y_pred)\n",
    "print(\"F1-score  :\", F1_score)\n"
   ]
  },
  {
   "cell_type": "markdown",
   "metadata": {
    "id": "2Hg0icmyeQfS",
    "pycharm": {
     "name": "#%% md\n"
    }
   },
   "source": [
    "# BERT"
   ]
  },
  {
   "cell_type": "code",
   "execution_count": 1,
   "metadata": {
    "colab": {
     "base_uri": "https://localhost:8080/"
    },
    "id": "Xvv8b_KieTHV",
    "outputId": "e2f4cb28-91dd-49bd-a788-290b33f5981c",
    "pycharm": {
     "name": "#%%\n"
    }
   },
   "outputs": [
    {
     "data": {
      "text/plain": [
       "pandas.core.frame.DataFrame"
      ]
     },
     "execution_count": 1,
     "metadata": {},
     "output_type": "execute_result"
    }
   ],
   "source": [
    "import pandas as pd\n",
    "data = pd.read_csv('train.csv')\n",
    "data.head()\n",
    "type(data)"
   ]
  },
  {
   "cell_type": "code",
   "execution_count": 2,
   "metadata": {
    "colab": {
     "base_uri": "https://localhost:8080/",
     "height": 423
    },
    "id": "qsYmDQMUIgc3",
    "outputId": "05a72ff7-4470-4ba5-9418-97e81693bc3e",
    "pycharm": {
     "name": "#%%\n"
    }
   },
   "outputs": [
    {
     "data": {
      "text/html": [
       "\n",
       "  <div id=\"df-60dc2be0-1da4-4cc0-9702-684592845fcb\">\n",
       "    <div class=\"colab-df-container\">\n",
       "      <div>\n",
       "<style scoped>\n",
       "    .dataframe tbody tr th:only-of-type {\n",
       "        vertical-align: middle;\n",
       "    }\n",
       "\n",
       "    .dataframe tbody tr th {\n",
       "        vertical-align: top;\n",
       "    }\n",
       "\n",
       "    .dataframe thead th {\n",
       "        text-align: right;\n",
       "    }\n",
       "</style>\n",
       "<table border=\"1\" class=\"dataframe\">\n",
       "  <thead>\n",
       "    <tr style=\"text-align: right;\">\n",
       "      <th></th>\n",
       "      <th>id</th>\n",
       "      <th>label</th>\n",
       "      <th>tweet</th>\n",
       "    </tr>\n",
       "  </thead>\n",
       "  <tbody>\n",
       "    <tr>\n",
       "      <th>333</th>\n",
       "      <td>334</td>\n",
       "      <td>0</td>\n",
       "      <td>#juneteenth #independenceday #food4thought #...</td>\n",
       "    </tr>\n",
       "    <tr>\n",
       "      <th>5950</th>\n",
       "      <td>5951</td>\n",
       "      <td>1</td>\n",
       "      <td>how is it that a man comes in last in a race b...</td>\n",
       "    </tr>\n",
       "    <tr>\n",
       "      <th>68</th>\n",
       "      <td>69</td>\n",
       "      <td>1</td>\n",
       "      <td>ð©the white establishment can't have blk fol...</td>\n",
       "    </tr>\n",
       "    <tr>\n",
       "      <th>1751</th>\n",
       "      <td>1752</td>\n",
       "      <td>1</td>\n",
       "      <td>@user no liberal believes that. we are the pay...</td>\n",
       "    </tr>\n",
       "    <tr>\n",
       "      <th>3542</th>\n",
       "      <td>3543</td>\n",
       "      <td>1</td>\n",
       "      <td>@user how is the word #love even in your vocab...</td>\n",
       "    </tr>\n",
       "    <tr>\n",
       "      <th>...</th>\n",
       "      <td>...</td>\n",
       "      <td>...</td>\n",
       "      <td>...</td>\n",
       "    </tr>\n",
       "    <tr>\n",
       "      <th>6741</th>\n",
       "      <td>6742</td>\n",
       "      <td>1</td>\n",
       "      <td>#2017 scatter #joy!â¢ may we bless&amp;amp;keep s...</td>\n",
       "    </tr>\n",
       "    <tr>\n",
       "      <th>933</th>\n",
       "      <td>934</td>\n",
       "      <td>1</td>\n",
       "      <td>is not an #opinion. racism is #degrading peop...</td>\n",
       "    </tr>\n",
       "    <tr>\n",
       "      <th>544</th>\n",
       "      <td>545</td>\n",
       "      <td>1</td>\n",
       "      <td>@user that doesn't prevent you from being a  a...</td>\n",
       "    </tr>\n",
       "    <tr>\n",
       "      <th>5314</th>\n",
       "      <td>5315</td>\n",
       "      <td>1</td>\n",
       "      <td>j.c penney employee holds customer in headlock...</td>\n",
       "    </tr>\n",
       "    <tr>\n",
       "      <th>265</th>\n",
       "      <td>266</td>\n",
       "      <td>0</td>\n",
       "      <td>who can get the pussy quicker these days   ð</td>\n",
       "    </tr>\n",
       "  </tbody>\n",
       "</table>\n",
       "<p>1000 rows × 3 columns</p>\n",
       "</div>\n",
       "      <button class=\"colab-df-convert\" onclick=\"convertToInteractive('df-60dc2be0-1da4-4cc0-9702-684592845fcb')\"\n",
       "              title=\"Convert this dataframe to an interactive table.\"\n",
       "              style=\"display:none;\">\n",
       "        \n",
       "  <svg xmlns=\"http://www.w3.org/2000/svg\" height=\"24px\"viewBox=\"0 0 24 24\"\n",
       "       width=\"24px\">\n",
       "    <path d=\"M0 0h24v24H0V0z\" fill=\"none\"/>\n",
       "    <path d=\"M18.56 5.44l.94 2.06.94-2.06 2.06-.94-2.06-.94-.94-2.06-.94 2.06-2.06.94zm-11 1L8.5 8.5l.94-2.06 2.06-.94-2.06-.94L8.5 2.5l-.94 2.06-2.06.94zm10 10l.94 2.06.94-2.06 2.06-.94-2.06-.94-.94-2.06-.94 2.06-2.06.94z\"/><path d=\"M17.41 7.96l-1.37-1.37c-.4-.4-.92-.59-1.43-.59-.52 0-1.04.2-1.43.59L10.3 9.45l-7.72 7.72c-.78.78-.78 2.05 0 2.83L4 21.41c.39.39.9.59 1.41.59.51 0 1.02-.2 1.41-.59l7.78-7.78 2.81-2.81c.8-.78.8-2.07 0-2.86zM5.41 20L4 18.59l7.72-7.72 1.47 1.35L5.41 20z\"/>\n",
       "  </svg>\n",
       "      </button>\n",
       "      \n",
       "  <style>\n",
       "    .colab-df-container {\n",
       "      display:flex;\n",
       "      flex-wrap:wrap;\n",
       "      gap: 12px;\n",
       "    }\n",
       "\n",
       "    .colab-df-convert {\n",
       "      background-color: #E8F0FE;\n",
       "      border: none;\n",
       "      border-radius: 50%;\n",
       "      cursor: pointer;\n",
       "      display: none;\n",
       "      fill: #1967D2;\n",
       "      height: 32px;\n",
       "      padding: 0 0 0 0;\n",
       "      width: 32px;\n",
       "    }\n",
       "\n",
       "    .colab-df-convert:hover {\n",
       "      background-color: #E2EBFA;\n",
       "      box-shadow: 0px 1px 2px rgba(60, 64, 67, 0.3), 0px 1px 3px 1px rgba(60, 64, 67, 0.15);\n",
       "      fill: #174EA6;\n",
       "    }\n",
       "\n",
       "    [theme=dark] .colab-df-convert {\n",
       "      background-color: #3B4455;\n",
       "      fill: #D2E3FC;\n",
       "    }\n",
       "\n",
       "    [theme=dark] .colab-df-convert:hover {\n",
       "      background-color: #434B5C;\n",
       "      box-shadow: 0px 1px 3px 1px rgba(0, 0, 0, 0.15);\n",
       "      filter: drop-shadow(0px 1px 2px rgba(0, 0, 0, 0.3));\n",
       "      fill: #FFFFFF;\n",
       "    }\n",
       "  </style>\n",
       "\n",
       "      <script>\n",
       "        const buttonEl =\n",
       "          document.querySelector('#df-60dc2be0-1da4-4cc0-9702-684592845fcb button.colab-df-convert');\n",
       "        buttonEl.style.display =\n",
       "          google.colab.kernel.accessAllowed ? 'block' : 'none';\n",
       "\n",
       "        async function convertToInteractive(key) {\n",
       "          const element = document.querySelector('#df-60dc2be0-1da4-4cc0-9702-684592845fcb');\n",
       "          const dataTable =\n",
       "            await google.colab.kernel.invokeFunction('convertToInteractive',\n",
       "                                                     [key], {});\n",
       "          if (!dataTable) return;\n",
       "\n",
       "          const docLinkHtml = 'Like what you see? Visit the ' +\n",
       "            '<a target=\"_blank\" href=https://colab.research.google.com/notebooks/data_table.ipynb>data table notebook</a>'\n",
       "            + ' to learn more about interactive tables.';\n",
       "          element.innerHTML = '';\n",
       "          dataTable['output_type'] = 'display_data';\n",
       "          await google.colab.output.renderOutput(dataTable, element);\n",
       "          const docLink = document.createElement('div');\n",
       "          docLink.innerHTML = docLinkHtml;\n",
       "          element.appendChild(docLink);\n",
       "        }\n",
       "      </script>\n",
       "    </div>\n",
       "  </div>\n",
       "  "
      ],
      "text/plain": [
       "        id  label                                              tweet\n",
       "333    334      0    #juneteenth #independenceday #food4thought #...\n",
       "5950  5951      1  how is it that a man comes in last in a race b...\n",
       "68      69      1  ð©the white establishment can't have blk fol...\n",
       "1751  1752      1  @user no liberal believes that. we are the pay...\n",
       "3542  3543      1  @user how is the word #love even in your vocab...\n",
       "...    ...    ...                                                ...\n",
       "6741  6742      1  #2017 scatter #joy!â¢ may we bless&amp;keep s...\n",
       "933    934      1   is not an #opinion. racism is #degrading peop...\n",
       "544    545      1  @user that doesn't prevent you from being a  a...\n",
       "5314  5315      1  j.c penney employee holds customer in headlock...\n",
       "265    266      0    who can get the pussy quicker these days   ð\n",
       "\n",
       "[1000 rows x 3 columns]"
      ]
     },
     "execution_count": 2,
     "metadata": {},
     "output_type": "execute_result"
    }
   ],
   "source": [
    "data3 = pd.DataFrame()\n",
    "data1 = data[data['label'] == 1]\n",
    "data0 = data[data['label'] == 0]\n",
    "frames = [data1.head(500), data0.head(500)]\n",
    "data3 = pd.concat(frames)\n",
    "data3 = data3.sample(frac = 1)\n",
    "data3"
   ]
  },
  {
   "cell_type": "code",
   "execution_count": 3,
   "metadata": {
    "id": "XsDAYv-8oCS5",
    "pycharm": {
     "name": "#%%\n"
    }
   },
   "outputs": [],
   "source": [
    "data=data3"
   ]
  },
  {
   "cell_type": "code",
   "execution_count": 4,
   "metadata": {
    "colab": {
     "base_uri": "https://localhost:8080/"
    },
    "id": "V8o2dlwgeex_",
    "outputId": "71d5a5be-e29b-400f-bcaa-be118158ab2a",
    "pycharm": {
     "name": "#%%\n"
    }
   },
   "outputs": [
    {
     "data": {
      "text/plain": [
       "id       0\n",
       "label    0\n",
       "tweet    0\n",
       "dtype: int64"
      ]
     },
     "execution_count": 4,
     "metadata": {},
     "output_type": "execute_result"
    }
   ],
   "source": [
    "data.isnull().sum()"
   ]
  },
  {
   "cell_type": "code",
   "execution_count": 5,
   "metadata": {
    "colab": {
     "base_uri": "https://localhost:8080/"
    },
    "id": "h0HPC9zxejVj",
    "outputId": "de6a6199-1ccd-437a-b807-52a82e337864",
    "pycharm": {
     "name": "#%%\n"
    }
   },
   "outputs": [
    {
     "name": "stderr",
     "output_type": "stream",
     "text": [
      "[nltk_data] Downloading package wordnet to /root/nltk_data...\n",
      "[nltk_data]   Package wordnet is already up-to-date!\n",
      "[nltk_data] Downloading package stopwords to /root/nltk_data...\n",
      "[nltk_data]   Package stopwords is already up-to-date!\n"
     ]
    }
   ],
   "source": [
    "import nltk\n",
    "nltk.download('wordnet')\n",
    "nltk.download('stopwords')\n",
    "import re\n",
    "from nltk.corpus import stopwords\n",
    "from nltk.stem import WordNetLemmatizer\n",
    "lemma = WordNetLemmatizer()\n",
    "\n",
    "def normalizer(tweet):\n",
    "    tweets = \" \".join(filter(lambda x: x[0]!= '@' , tweet.split()))\n",
    "    tweets = re.sub('[^a-zA-Z]', ' ', tweets)\n",
    "    tweets = tweets.lower()\n",
    "    tweets = tweets.split()\n",
    "    tweets = [word for word in tweets if not word in set(stopwords.words('english'))]\n",
    "    tweets = [lemma.lemmatize(word) for word in tweets]\n",
    "    tweets = \" \".join(tweets)\n",
    "    return tweets\n",
    "\n",
    "data['normalized_text'] = data.tweet.apply(normalizer)\n"
   ]
  },
  {
   "cell_type": "code",
   "execution_count": 6,
   "metadata": {
    "id": "zMi5x4gOfO8I",
    "pycharm": {
     "name": "#%%\n"
    }
   },
   "outputs": [],
   "source": [
    "all_words = \" \".join(data.normalized_text)\n",
    "hatred_words = \" \".join(data[data['label']==1].normalized_text)"
   ]
  },
  {
   "cell_type": "code",
   "execution_count": 7,
   "metadata": {
    "id": "v1z8hHEsgCQV",
    "pycharm": {
     "name": "#%%\n"
    }
   },
   "outputs": [],
   "source": [
    "# !pip install tensorflow_hub\n",
    "# !pip install tensorflow_text\n",
    "import tensorflow_hub as hub\n",
    "import tensorflow_text as text"
   ]
  },
  {
   "cell_type": "code",
   "execution_count": 8,
   "metadata": {
    "id": "ge9TkNOGjMWV",
    "pycharm": {
     "name": "#%%\n"
    }
   },
   "outputs": [],
   "source": [
    "preprocess_url = \"https://tfhub.dev/tensorflow/bert_en_uncased_preprocess/3\"\n",
    "encoder_url = \"https://tfhub.dev/tensorflow/bert_en_uncased_L-12_H-768_A-12/4\"\n",
    "bert_preprocess_model = hub.KerasLayer(preprocess_url)\n",
    "text_test = data['normalized_text'].tolist()\n",
    "text_preprocessed = bert_preprocess_model(text_test)"
   ]
  },
  {
   "cell_type": "code",
   "execution_count": null,
   "metadata": {
    "id": "AQoxvsJ1jfv9",
    "pycharm": {
     "name": "#%%\n"
    }
   },
   "outputs": [],
   "source": [
    "#@title Default title text\n",
    "bert_model = hub.KerasLayer(encoder_url)\n",
    "bert_results = bert_model(text_preprocessed)\n",
    "bert_results.keys()\n",
    "df = bert_results['pooled_output']"
   ]
  },
  {
   "cell_type": "code",
   "execution_count": 135,
   "metadata": {
    "colab": {
     "base_uri": "https://localhost:8080/"
    },
    "id": "dKLfR6FjZAqZ",
    "outputId": "625c9a79-ca8f-457a-e26a-d3f227d430d5",
    "pycharm": {
     "name": "#%%\n"
    }
   },
   "outputs": [
    {
     "data": {
      "text/plain": [
       "<tf.Tensor: shape=(1000, 768), dtype=float32, numpy=\n",
       "array([[-0.70360804, -0.50008583, -0.887749  , ..., -0.60607076,\n",
       "        -0.6118873 ,  0.82192904],\n",
       "       [-0.86051625, -0.26906678, -0.04890202, ..., -0.11236896,\n",
       "        -0.5919704 ,  0.9028509 ],\n",
       "       [-0.8618153 , -0.5575933 , -0.89502233, ..., -0.7816628 ,\n",
       "        -0.6873987 ,  0.75592154],\n",
       "       ...,\n",
       "       [-0.8074286 , -0.28539616, -0.5312113 , ..., -0.16566284,\n",
       "        -0.6382496 ,  0.8731795 ],\n",
       "       [-0.8125496 , -0.20383257,  0.13648306, ...,  0.4233455 ,\n",
       "        -0.49789438,  0.83963215],\n",
       "       [-0.8286274 , -0.4866653 , -0.8842746 , ..., -0.7000617 ,\n",
       "        -0.6640267 ,  0.8733993 ]], dtype=float32)>"
      ]
     },
     "execution_count": 135,
     "metadata": {},
     "output_type": "execute_result"
    }
   ],
   "source": [
    "df"
   ]
  },
  {
   "cell_type": "code",
   "execution_count": 136,
   "metadata": {
    "id": "-crjvMr2aDK_",
    "pycharm": {
     "name": "#%%\n"
    }
   },
   "outputs": [],
   "source": [
    "# import numpy as np\n",
    "y= data.iloc[:,1].values\n",
    "y = pd.get_dummies(y, columns = ['1', '0'])\n",
    "a = df.numpy()\n",
    "df1 = pd.Series(a.tolist())"
   ]
  },
  {
   "cell_type": "code",
   "execution_count": 137,
   "metadata": {
    "colab": {
     "base_uri": "https://localhost:8080/"
    },
    "id": "H36Yy2vggVnD",
    "outputId": "3c045233-5702-4f9e-e984-eddfb284b393",
    "pycharm": {
     "name": "#%%\n"
    }
   },
   "outputs": [
    {
     "data": {
      "text/plain": [
       "0      [-0.7036080360412598, -0.5000858306884766, -0....\n",
       "1      [-0.8605162501335144, -0.26906678080558777, -0...\n",
       "2      [-0.8618152737617493, -0.5575932860374451, -0....\n",
       "3      [-0.8339090347290039, -0.4172326326370239, -0....\n",
       "4      [-0.8820518851280212, -0.35343751311302185, -0...\n",
       "                             ...                        \n",
       "995    [-0.9385372996330261, -0.615025520324707, -0.8...\n",
       "996    [-0.8290014266967773, -0.4178866446018219, -0....\n",
       "997    [-0.8074285984039307, -0.28539615869522095, -0...\n",
       "998    [-0.8125495910644531, -0.20383256673812866, 0....\n",
       "999    [-0.8286274075508118, -0.4866653084754944, -0....\n",
       "Length: 1000, dtype: object"
      ]
     },
     "execution_count": 137,
     "metadata": {},
     "output_type": "execute_result"
    }
   ],
   "source": [
    "df1"
   ]
  },
  {
   "cell_type": "code",
   "execution_count": 138,
   "metadata": {
    "id": "AKl92e3kZUcY",
    "pycharm": {
     "name": "#%%\n"
    }
   },
   "outputs": [],
   "source": [
    "from keras.models import Sequential\n",
    "from keras.layers import Dense, Activation\n",
    "\n",
    "model = Sequential()\n",
    "model.add(Dense(64, activation='relu', input_shape = (768,) ))\n",
    "model.add(Dense(32, activation='relu'))\n",
    "model.add(Dense(16, activation='relu'))\n",
    "model.add(Dense(8, activation='relu'))\n",
    "model.add(Dense(2, activation='softmax'))\n",
    "\n",
    "model.compile(optimizer='adam', loss='binary_crossentropy', metrics=['accuracy'])"
   ]
  },
  {
   "cell_type": "code",
   "execution_count": 140,
   "metadata": {
    "colab": {
     "base_uri": "https://localhost:8080/"
    },
    "id": "-k_6VNX9Zexp",
    "outputId": "15577c4b-04e7-4745-ae1e-7f8f6f6027ce",
    "pycharm": {
     "name": "#%%\n"
    }
   },
   "outputs": [
    {
     "name": "stdout",
     "output_type": "stream",
     "text": [
      "Epoch 1/100\n",
      "50/50 [==============================] - 1s 6ms/step - loss: 0.5323 - accuracy: 0.7400 - val_loss: 0.6682 - val_accuracy: 0.5850\n",
      "Epoch 2/100\n",
      "50/50 [==============================] - 0s 5ms/step - loss: 0.5040 - accuracy: 0.7538 - val_loss: 0.4688 - val_accuracy: 0.8200\n",
      "Epoch 3/100\n",
      "50/50 [==============================] - 0s 5ms/step - loss: 0.4766 - accuracy: 0.7738 - val_loss: 0.4296 - val_accuracy: 0.8100\n",
      "Epoch 4/100\n",
      "50/50 [==============================] - 0s 6ms/step - loss: 0.4700 - accuracy: 0.7825 - val_loss: 0.4436 - val_accuracy: 0.8150\n",
      "Epoch 5/100\n",
      "50/50 [==============================] - 0s 6ms/step - loss: 0.4703 - accuracy: 0.7912 - val_loss: 0.4240 - val_accuracy: 0.8150\n",
      "Epoch 6/100\n",
      "50/50 [==============================] - 0s 5ms/step - loss: 0.4426 - accuracy: 0.7900 - val_loss: 0.4293 - val_accuracy: 0.8100\n",
      "Epoch 7/100\n",
      "50/50 [==============================] - 0s 6ms/step - loss: 0.4405 - accuracy: 0.8050 - val_loss: 0.4471 - val_accuracy: 0.8000\n",
      "Epoch 8/100\n",
      "50/50 [==============================] - 0s 6ms/step - loss: 0.4795 - accuracy: 0.7700 - val_loss: 0.5127 - val_accuracy: 0.7350\n",
      "Epoch 9/100\n",
      "50/50 [==============================] - 0s 6ms/step - loss: 0.4429 - accuracy: 0.8037 - val_loss: 0.4532 - val_accuracy: 0.7900\n",
      "Epoch 10/100\n",
      "50/50 [==============================] - 0s 5ms/step - loss: 0.4145 - accuracy: 0.8238 - val_loss: 0.4297 - val_accuracy: 0.8050\n",
      "Epoch 11/100\n",
      "50/50 [==============================] - 0s 8ms/step - loss: 0.4290 - accuracy: 0.8150 - val_loss: 0.4176 - val_accuracy: 0.8050\n",
      "Epoch 12/100\n",
      "50/50 [==============================] - 0s 8ms/step - loss: 0.4268 - accuracy: 0.8138 - val_loss: 0.6209 - val_accuracy: 0.7300\n",
      "Epoch 13/100\n",
      "50/50 [==============================] - 0s 7ms/step - loss: 0.4444 - accuracy: 0.7975 - val_loss: 0.4345 - val_accuracy: 0.7950\n",
      "Epoch 14/100\n",
      "50/50 [==============================] - 0s 8ms/step - loss: 0.4440 - accuracy: 0.8075 - val_loss: 0.4299 - val_accuracy: 0.7900\n",
      "Epoch 15/100\n",
      "50/50 [==============================] - 0s 8ms/step - loss: 0.4069 - accuracy: 0.8213 - val_loss: 0.4327 - val_accuracy: 0.8000\n",
      "Epoch 16/100\n",
      "50/50 [==============================] - 0s 8ms/step - loss: 0.4239 - accuracy: 0.8112 - val_loss: 0.4040 - val_accuracy: 0.8300\n",
      "Epoch 17/100\n",
      "50/50 [==============================] - 0s 6ms/step - loss: 0.4144 - accuracy: 0.8138 - val_loss: 0.4336 - val_accuracy: 0.8100\n",
      "Epoch 18/100\n",
      "50/50 [==============================] - 0s 5ms/step - loss: 0.4242 - accuracy: 0.8150 - val_loss: 0.4360 - val_accuracy: 0.8050\n",
      "Epoch 19/100\n",
      "50/50 [==============================] - 0s 5ms/step - loss: 0.3960 - accuracy: 0.8238 - val_loss: 0.4210 - val_accuracy: 0.8050\n",
      "Epoch 20/100\n",
      "50/50 [==============================] - 0s 5ms/step - loss: 0.4024 - accuracy: 0.8288 - val_loss: 0.4898 - val_accuracy: 0.7550\n",
      "Epoch 21/100\n",
      "50/50 [==============================] - 0s 5ms/step - loss: 0.4157 - accuracy: 0.8175 - val_loss: 0.4319 - val_accuracy: 0.8000\n",
      "Epoch 22/100\n",
      "50/50 [==============================] - 0s 6ms/step - loss: 0.4100 - accuracy: 0.8263 - val_loss: 0.6080 - val_accuracy: 0.6850\n",
      "Epoch 23/100\n",
      "50/50 [==============================] - 0s 5ms/step - loss: 0.4166 - accuracy: 0.8213 - val_loss: 0.4149 - val_accuracy: 0.8200\n",
      "Epoch 24/100\n",
      "50/50 [==============================] - 0s 5ms/step - loss: 0.4019 - accuracy: 0.8213 - val_loss: 0.4099 - val_accuracy: 0.8300\n",
      "Epoch 25/100\n",
      "50/50 [==============================] - 0s 6ms/step - loss: 0.3941 - accuracy: 0.8313 - val_loss: 0.4058 - val_accuracy: 0.8150\n",
      "Epoch 26/100\n",
      "50/50 [==============================] - 0s 5ms/step - loss: 0.3868 - accuracy: 0.8375 - val_loss: 0.4103 - val_accuracy: 0.8200\n",
      "Epoch 27/100\n",
      "50/50 [==============================] - 0s 6ms/step - loss: 0.4002 - accuracy: 0.8350 - val_loss: 0.4161 - val_accuracy: 0.8100\n",
      "Epoch 28/100\n",
      "50/50 [==============================] - 0s 5ms/step - loss: 0.4688 - accuracy: 0.7763 - val_loss: 0.5441 - val_accuracy: 0.7250\n",
      "Epoch 29/100\n",
      "50/50 [==============================] - 0s 6ms/step - loss: 0.3953 - accuracy: 0.8325 - val_loss: 0.4749 - val_accuracy: 0.7800\n",
      "Epoch 30/100\n",
      "50/50 [==============================] - 0s 5ms/step - loss: 0.3960 - accuracy: 0.8263 - val_loss: 0.4022 - val_accuracy: 0.8250\n",
      "Epoch 31/100\n",
      "50/50 [==============================] - 0s 6ms/step - loss: 0.3645 - accuracy: 0.8462 - val_loss: 0.4046 - val_accuracy: 0.8050\n",
      "Epoch 32/100\n",
      "50/50 [==============================] - 0s 5ms/step - loss: 0.3869 - accuracy: 0.8400 - val_loss: 0.4395 - val_accuracy: 0.8100\n",
      "Epoch 33/100\n",
      "50/50 [==============================] - 0s 5ms/step - loss: 0.3722 - accuracy: 0.8450 - val_loss: 0.4449 - val_accuracy: 0.8150\n",
      "Epoch 34/100\n",
      "50/50 [==============================] - 0s 6ms/step - loss: 0.3621 - accuracy: 0.8537 - val_loss: 0.4264 - val_accuracy: 0.8050\n",
      "Epoch 35/100\n",
      "50/50 [==============================] - 0s 7ms/step - loss: 0.3815 - accuracy: 0.8413 - val_loss: 0.4176 - val_accuracy: 0.8250\n",
      "Epoch 36/100\n",
      "50/50 [==============================] - 0s 6ms/step - loss: 0.3765 - accuracy: 0.8413 - val_loss: 0.4133 - val_accuracy: 0.8150\n",
      "Epoch 37/100\n",
      "50/50 [==============================] - 0s 6ms/step - loss: 0.3944 - accuracy: 0.8225 - val_loss: 0.4485 - val_accuracy: 0.7950\n",
      "Epoch 38/100\n",
      "50/50 [==============================] - 0s 6ms/step - loss: 0.3831 - accuracy: 0.8325 - val_loss: 0.4011 - val_accuracy: 0.8200\n",
      "Epoch 39/100\n",
      "50/50 [==============================] - 0s 6ms/step - loss: 0.3889 - accuracy: 0.8325 - val_loss: 0.4266 - val_accuracy: 0.8150\n",
      "Epoch 40/100\n",
      "50/50 [==============================] - 0s 5ms/step - loss: 0.3540 - accuracy: 0.8600 - val_loss: 0.4184 - val_accuracy: 0.8050\n",
      "Epoch 41/100\n",
      "50/50 [==============================] - 0s 6ms/step - loss: 0.3555 - accuracy: 0.8487 - val_loss: 0.4270 - val_accuracy: 0.8100\n",
      "Epoch 42/100\n",
      "50/50 [==============================] - 0s 5ms/step - loss: 0.3640 - accuracy: 0.8587 - val_loss: 0.4315 - val_accuracy: 0.8100\n",
      "Epoch 43/100\n",
      "50/50 [==============================] - 0s 5ms/step - loss: 0.3670 - accuracy: 0.8475 - val_loss: 0.4025 - val_accuracy: 0.8150\n",
      "Epoch 44/100\n",
      "50/50 [==============================] - 0s 6ms/step - loss: 0.3312 - accuracy: 0.8737 - val_loss: 0.5516 - val_accuracy: 0.7550\n",
      "Epoch 45/100\n",
      "50/50 [==============================] - 0s 5ms/step - loss: 0.3850 - accuracy: 0.8325 - val_loss: 0.4554 - val_accuracy: 0.8050\n",
      "Epoch 46/100\n",
      "50/50 [==============================] - 0s 6ms/step - loss: 0.3428 - accuracy: 0.8650 - val_loss: 0.4107 - val_accuracy: 0.8100\n",
      "Epoch 47/100\n",
      "50/50 [==============================] - 0s 6ms/step - loss: 0.3369 - accuracy: 0.8700 - val_loss: 0.5773 - val_accuracy: 0.7550\n",
      "Epoch 48/100\n",
      "50/50 [==============================] - 0s 5ms/step - loss: 0.3802 - accuracy: 0.8400 - val_loss: 0.4729 - val_accuracy: 0.7900\n",
      "Epoch 49/100\n",
      "50/50 [==============================] - 0s 5ms/step - loss: 0.3707 - accuracy: 0.8400 - val_loss: 0.4079 - val_accuracy: 0.8250\n",
      "Epoch 50/100\n",
      "50/50 [==============================] - 0s 6ms/step - loss: 0.3461 - accuracy: 0.8725 - val_loss: 0.5030 - val_accuracy: 0.7650\n",
      "Epoch 51/100\n",
      "50/50 [==============================] - 0s 5ms/step - loss: 0.3564 - accuracy: 0.8525 - val_loss: 0.5696 - val_accuracy: 0.7600\n",
      "Epoch 52/100\n",
      "50/50 [==============================] - 0s 7ms/step - loss: 0.3835 - accuracy: 0.8400 - val_loss: 0.3904 - val_accuracy: 0.8250\n",
      "Epoch 53/100\n",
      "50/50 [==============================] - 0s 8ms/step - loss: 0.3222 - accuracy: 0.8763 - val_loss: 0.4345 - val_accuracy: 0.8300\n",
      "Epoch 54/100\n",
      "50/50 [==============================] - 0s 7ms/step - loss: 0.3243 - accuracy: 0.8725 - val_loss: 0.4344 - val_accuracy: 0.8150\n",
      "Epoch 55/100\n",
      "50/50 [==============================] - 0s 7ms/step - loss: 0.3452 - accuracy: 0.8587 - val_loss: 0.5493 - val_accuracy: 0.7400\n",
      "Epoch 56/100\n",
      "50/50 [==============================] - 0s 7ms/step - loss: 0.3823 - accuracy: 0.8462 - val_loss: 0.5946 - val_accuracy: 0.7550\n",
      "Epoch 57/100\n",
      "50/50 [==============================] - 0s 8ms/step - loss: 0.3645 - accuracy: 0.8562 - val_loss: 0.3952 - val_accuracy: 0.8250\n",
      "Epoch 58/100\n",
      "50/50 [==============================] - 0s 8ms/step - loss: 0.3336 - accuracy: 0.8712 - val_loss: 0.3985 - val_accuracy: 0.8150\n",
      "Epoch 59/100\n",
      "50/50 [==============================] - 0s 6ms/step - loss: 0.3338 - accuracy: 0.8600 - val_loss: 0.5086 - val_accuracy: 0.7600\n",
      "Epoch 60/100\n",
      "50/50 [==============================] - 0s 6ms/step - loss: 0.3425 - accuracy: 0.8525 - val_loss: 0.4913 - val_accuracy: 0.7950\n",
      "Epoch 61/100\n",
      "50/50 [==============================] - 0s 5ms/step - loss: 0.3157 - accuracy: 0.8750 - val_loss: 0.4620 - val_accuracy: 0.7950\n",
      "Epoch 62/100\n",
      "50/50 [==============================] - 0s 6ms/step - loss: 0.3450 - accuracy: 0.8562 - val_loss: 0.4022 - val_accuracy: 0.8100\n",
      "Epoch 63/100\n",
      "50/50 [==============================] - 0s 5ms/step - loss: 0.3132 - accuracy: 0.8662 - val_loss: 0.4094 - val_accuracy: 0.8300\n",
      "Epoch 64/100\n",
      "50/50 [==============================] - 0s 5ms/step - loss: 0.3324 - accuracy: 0.8650 - val_loss: 0.4172 - val_accuracy: 0.8300\n",
      "Epoch 65/100\n",
      "50/50 [==============================] - 0s 5ms/step - loss: 0.3011 - accuracy: 0.8775 - val_loss: 0.5051 - val_accuracy: 0.8000\n",
      "Epoch 66/100\n",
      "50/50 [==============================] - 0s 5ms/step - loss: 0.3033 - accuracy: 0.8687 - val_loss: 0.4041 - val_accuracy: 0.8350\n",
      "Epoch 67/100\n",
      "50/50 [==============================] - 0s 6ms/step - loss: 0.3183 - accuracy: 0.8687 - val_loss: 0.5217 - val_accuracy: 0.7800\n",
      "Epoch 68/100\n",
      "50/50 [==============================] - 0s 6ms/step - loss: 0.3100 - accuracy: 0.8763 - val_loss: 0.4584 - val_accuracy: 0.8050\n",
      "Epoch 69/100\n",
      "50/50 [==============================] - 0s 6ms/step - loss: 0.3211 - accuracy: 0.8750 - val_loss: 0.4333 - val_accuracy: 0.8350\n",
      "Epoch 70/100\n",
      "50/50 [==============================] - 0s 6ms/step - loss: 0.3549 - accuracy: 0.8537 - val_loss: 0.4200 - val_accuracy: 0.8100\n",
      "Epoch 71/100\n",
      "50/50 [==============================] - 0s 5ms/step - loss: 0.2861 - accuracy: 0.8825 - val_loss: 0.4429 - val_accuracy: 0.8050\n",
      "Epoch 72/100\n",
      "50/50 [==============================] - 0s 6ms/step - loss: 0.3461 - accuracy: 0.8537 - val_loss: 0.4133 - val_accuracy: 0.8450\n",
      "Epoch 73/100\n",
      "50/50 [==============================] - 0s 5ms/step - loss: 0.3040 - accuracy: 0.8737 - val_loss: 0.4586 - val_accuracy: 0.8050\n",
      "Epoch 74/100\n",
      "50/50 [==============================] - 0s 5ms/step - loss: 0.2788 - accuracy: 0.8938 - val_loss: 0.4369 - val_accuracy: 0.8400\n",
      "Epoch 75/100\n",
      "50/50 [==============================] - 0s 6ms/step - loss: 0.2882 - accuracy: 0.8900 - val_loss: 0.4365 - val_accuracy: 0.8350\n",
      "Epoch 76/100\n",
      "50/50 [==============================] - 0s 5ms/step - loss: 0.2728 - accuracy: 0.8925 - val_loss: 0.5156 - val_accuracy: 0.7850\n",
      "Epoch 77/100\n",
      "50/50 [==============================] - 0s 5ms/step - loss: 0.2731 - accuracy: 0.8838 - val_loss: 0.4316 - val_accuracy: 0.8300\n",
      "Epoch 78/100\n",
      "50/50 [==============================] - 0s 5ms/step - loss: 0.2702 - accuracy: 0.8925 - val_loss: 0.4466 - val_accuracy: 0.8000\n",
      "Epoch 79/100\n",
      "50/50 [==============================] - 0s 6ms/step - loss: 0.2712 - accuracy: 0.8913 - val_loss: 0.4273 - val_accuracy: 0.8100\n",
      "Epoch 80/100\n",
      "50/50 [==============================] - 0s 5ms/step - loss: 0.2964 - accuracy: 0.8763 - val_loss: 0.4191 - val_accuracy: 0.8400\n",
      "Epoch 81/100\n",
      "50/50 [==============================] - 0s 6ms/step - loss: 0.2718 - accuracy: 0.8938 - val_loss: 0.4216 - val_accuracy: 0.8100\n",
      "Epoch 82/100\n",
      "50/50 [==============================] - 0s 6ms/step - loss: 0.3344 - accuracy: 0.8575 - val_loss: 0.4513 - val_accuracy: 0.8300\n",
      "Epoch 83/100\n",
      "50/50 [==============================] - 0s 5ms/step - loss: 0.2688 - accuracy: 0.9025 - val_loss: 0.4224 - val_accuracy: 0.8350\n",
      "Epoch 84/100\n",
      "50/50 [==============================] - 0s 5ms/step - loss: 0.2664 - accuracy: 0.8863 - val_loss: 0.4190 - val_accuracy: 0.8400\n",
      "Epoch 85/100\n",
      "50/50 [==============================] - 0s 5ms/step - loss: 0.2764 - accuracy: 0.8950 - val_loss: 0.5163 - val_accuracy: 0.8000\n",
      "Epoch 86/100\n",
      "50/50 [==============================] - 0s 5ms/step - loss: 0.2747 - accuracy: 0.8925 - val_loss: 0.4469 - val_accuracy: 0.8250\n",
      "Epoch 87/100\n",
      "50/50 [==============================] - 0s 5ms/step - loss: 0.2833 - accuracy: 0.8763 - val_loss: 0.4322 - val_accuracy: 0.8250\n",
      "Epoch 88/100\n",
      "50/50 [==============================] - 0s 5ms/step - loss: 0.2672 - accuracy: 0.8913 - val_loss: 0.5255 - val_accuracy: 0.8100\n",
      "Epoch 89/100\n",
      "50/50 [==============================] - 0s 6ms/step - loss: 0.2723 - accuracy: 0.8975 - val_loss: 0.4341 - val_accuracy: 0.8300\n",
      "Epoch 90/100\n",
      "50/50 [==============================] - 0s 5ms/step - loss: 0.2579 - accuracy: 0.9013 - val_loss: 0.4444 - val_accuracy: 0.8250\n",
      "Epoch 91/100\n",
      "50/50 [==============================] - 0s 5ms/step - loss: 0.2716 - accuracy: 0.8900 - val_loss: 0.5179 - val_accuracy: 0.8150\n",
      "Epoch 92/100\n",
      "50/50 [==============================] - 0s 5ms/step - loss: 0.2802 - accuracy: 0.8888 - val_loss: 0.4255 - val_accuracy: 0.8250\n",
      "Epoch 93/100\n",
      "50/50 [==============================] - 0s 6ms/step - loss: 0.2279 - accuracy: 0.9137 - val_loss: 0.4364 - val_accuracy: 0.8350\n",
      "Epoch 94/100\n",
      "50/50 [==============================] - 0s 6ms/step - loss: 0.2315 - accuracy: 0.9013 - val_loss: 0.4777 - val_accuracy: 0.8250\n",
      "Epoch 95/100\n",
      "50/50 [==============================] - 0s 9ms/step - loss: 0.2617 - accuracy: 0.8988 - val_loss: 0.4336 - val_accuracy: 0.8200\n",
      "Epoch 96/100\n",
      "50/50 [==============================] - 0s 7ms/step - loss: 0.2671 - accuracy: 0.8863 - val_loss: 0.4575 - val_accuracy: 0.8000\n",
      "Epoch 97/100\n",
      "50/50 [==============================] - 0s 8ms/step - loss: 0.2436 - accuracy: 0.9000 - val_loss: 0.4541 - val_accuracy: 0.8350\n",
      "Epoch 98/100\n",
      "50/50 [==============================] - 0s 8ms/step - loss: 0.2247 - accuracy: 0.9200 - val_loss: 0.4481 - val_accuracy: 0.8150\n",
      "Epoch 99/100\n",
      "50/50 [==============================] - 0s 9ms/step - loss: 0.2252 - accuracy: 0.9087 - val_loss: 0.4869 - val_accuracy: 0.8000\n",
      "Epoch 100/100\n",
      "50/50 [==============================] - 0s 8ms/step - loss: 0.2354 - accuracy: 0.9100 - val_loss: 0.4699 - val_accuracy: 0.8150\n"
     ]
    },
    {
     "data": {
      "text/plain": [
       "<keras.callbacks.History at 0x7f757883b160>"
      ]
     },
     "execution_count": 140,
     "metadata": {},
     "output_type": "execute_result"
    }
   ],
   "source": [
    "model.fit(df, y, epochs=100, batch_size=16, validation_split = .2)"
   ]
  },
  {
   "cell_type": "code",
   "execution_count": 141,
   "metadata": {
    "colab": {
     "base_uri": "https://localhost:8080/"
    },
    "id": "stqa9sjdgh1T",
    "outputId": "95240681-5780-477d-c6a6-d8fa2764ecd0",
    "pycharm": {
     "name": "#%%\n"
    }
   },
   "outputs": [
    {
     "data": {
      "text/plain": [
       "id       0\n",
       "label    0\n",
       "tweet    0\n",
       "dtype: int64"
      ]
     },
     "execution_count": 141,
     "metadata": {},
     "output_type": "execute_result"
    }
   ],
   "source": [
    "data = pd.read_csv('train.csv', encoding = \"ISO-8859-1\") # importing training data\n",
    "data.head()\n",
    "data=data[2000:2500]\n",
    "data.shape\n",
    "data.isna().sum()"
   ]
  },
  {
   "cell_type": "code",
   "execution_count": 142,
   "metadata": {
    "id": "sxPq6x4CgtQb",
    "pycharm": {
     "name": "#%%\n"
    }
   },
   "outputs": [],
   "source": [
    "data['normalized_text'] = data.tweet.apply(normalizer)"
   ]
  },
  {
   "cell_type": "code",
   "execution_count": 143,
   "metadata": {
    "id": "3byhFel1gzl8",
    "pycharm": {
     "name": "#%%\n"
    }
   },
   "outputs": [],
   "source": [
    "preprocess_url = \"https://tfhub.dev/tensorflow/bert_en_uncased_preprocess/3\"\n",
    "encoder_url = \"https://tfhub.dev/tensorflow/bert_en_uncased_L-12_H-768_A-12/4\"\n",
    "bert_preprocess_model = hub.KerasLayer(preprocess_url)\n",
    "text_test = data['normalized_text'].tolist()\n",
    "text_preprocessed = bert_preprocess_model(text_test)\n",
    "bert_model = hub.KerasLayer(encoder_url)\n",
    "bert_results = bert_model(text_preprocessed)\n",
    "bert_results.keys()\n",
    "df = bert_results['pooled_output']"
   ]
  },
  {
   "cell_type": "code",
   "execution_count": 144,
   "metadata": {
    "id": "ATxQpS2BhEE4",
    "pycharm": {
     "name": "#%%\n"
    }
   },
   "outputs": [],
   "source": [
    "a = df.numpy()\n",
    "df1 = pd.Series(a.tolist())"
   ]
  },
  {
   "cell_type": "code",
   "execution_count": 145,
   "metadata": {
    "id": "qX9htl-ThKvd",
    "pycharm": {
     "name": "#%%\n"
    }
   },
   "outputs": [],
   "source": [
    "y= data.iloc[:,1].values\n",
    "y = pd.get_dummies(y, columns = ['1', '0'])"
   ]
  },
  {
   "cell_type": "code",
   "execution_count": 146,
   "metadata": {
    "colab": {
     "base_uri": "https://localhost:8080/"
    },
    "id": "FJdiICSPhrqF",
    "outputId": "06bba665-5f05-47b5-8af3-b30d4acf79a5",
    "pycharm": {
     "name": "#%%\n"
    }
   },
   "outputs": [
    {
     "name": "stdout",
     "output_type": "stream",
     "text": [
      "16/16 [==============================] - 0s 2ms/step\n"
     ]
    }
   ],
   "source": [
    "sol = model.predict(df)"
   ]
  },
  {
   "cell_type": "code",
   "execution_count": 147,
   "metadata": {
    "colab": {
     "base_uri": "https://localhost:8080/"
    },
    "id": "ipxQYhpNhy-m",
    "outputId": "eb4785d4-01aa-47e1-f394-834986401296",
    "pycharm": {
     "name": "#%%\n"
    }
   },
   "outputs": [
    {
     "data": {
      "text/plain": [
       "array([[9.98063266e-01, 1.93677039e-03],\n",
       "       [3.05071235e-01, 6.94928765e-01],\n",
       "       [9.92503047e-01, 7.49696558e-03],\n",
       "       [9.88847017e-01, 1.11529771e-02],\n",
       "       [3.00769024e-02, 9.69923139e-01],\n",
       "       [3.83659778e-03, 9.96163368e-01],\n",
       "       [5.90531886e-01, 4.09468174e-01],\n",
       "       [1.37029225e-02, 9.86297131e-01],\n",
       "       [9.99550402e-01, 4.49555984e-04],\n",
       "       [8.52378786e-01, 1.47621244e-01],\n",
       "       [9.96448398e-01, 3.55156721e-03],\n",
       "       [9.99750555e-01, 2.49386299e-04],\n",
       "       [4.98083245e-04, 9.99501944e-01],\n",
       "       [6.89141825e-02, 9.31085765e-01],\n",
       "       [6.75140400e-05, 9.99932528e-01],\n",
       "       [9.94383454e-01, 5.61650377e-03],\n",
       "       [9.99880552e-01, 1.19407363e-04],\n",
       "       [3.08009051e-02, 9.69199061e-01],\n",
       "       [1.73769004e-04, 9.99826252e-01],\n",
       "       [9.99778926e-01, 2.21039430e-04],\n",
       "       [8.19459915e-01, 1.80540100e-01],\n",
       "       [8.76299083e-01, 1.23700924e-01],\n",
       "       [9.99873638e-01, 1.26302955e-04],\n",
       "       [1.47935236e-03, 9.98520672e-01],\n",
       "       [9.90640938e-01, 9.35904589e-03],\n",
       "       [9.99991536e-01, 8.50783363e-06],\n",
       "       [9.90155816e-01, 9.84416064e-03],\n",
       "       [9.99589264e-01, 4.10691486e-04],\n",
       "       [7.07676052e-04, 9.99292254e-01],\n",
       "       [9.93676126e-01, 6.32389216e-03],\n",
       "       [7.88076460e-01, 2.11923555e-01],\n",
       "       [9.97931123e-01, 2.06889841e-03],\n",
       "       [9.42086101e-01, 5.79138435e-02],\n",
       "       [9.99994755e-01, 5.23122389e-06],\n",
       "       [9.13301766e-01, 8.66982266e-02],\n",
       "       [9.97064292e-01, 2.93572503e-03],\n",
       "       [1.22319765e-01, 8.77680242e-01],\n",
       "       [6.01518853e-03, 9.93984878e-01],\n",
       "       [8.54015648e-01, 1.45984337e-01],\n",
       "       [9.97985840e-01, 2.01420416e-03],\n",
       "       [1.73969001e-01, 8.26031029e-01],\n",
       "       [9.99888897e-01, 1.11056754e-04],\n",
       "       [9.87793922e-01, 1.22060692e-02],\n",
       "       [6.92349970e-01, 3.07650059e-01],\n",
       "       [9.54519510e-02, 9.04548109e-01],\n",
       "       [9.97218132e-01, 2.78184819e-03],\n",
       "       [9.98764753e-01, 1.23528321e-03],\n",
       "       [9.99999881e-01, 6.27228829e-08],\n",
       "       [3.10239993e-04, 9.99689817e-01],\n",
       "       [9.99870539e-01, 1.29488282e-04],\n",
       "       [9.99491453e-01, 5.08479890e-04],\n",
       "       [9.98329341e-01, 1.67063484e-03],\n",
       "       [9.95063126e-01, 4.93684690e-03],\n",
       "       [9.96304870e-01, 3.69508844e-03],\n",
       "       [1.19053315e-04, 9.99880910e-01],\n",
       "       [9.97175694e-01, 2.82427482e-03],\n",
       "       [3.69193917e-03, 9.96308088e-01],\n",
       "       [9.99993324e-01, 6.61861850e-06],\n",
       "       [9.99878049e-01, 1.21916004e-04],\n",
       "       [6.71861708e-01, 3.28138262e-01],\n",
       "       [8.56683031e-02, 9.14331734e-01],\n",
       "       [9.97848988e-01, 2.15103943e-03],\n",
       "       [8.75457168e-01, 1.24542788e-01],\n",
       "       [2.38406733e-02, 9.76159394e-01],\n",
       "       [9.71024156e-01, 2.89758556e-02],\n",
       "       [9.92348313e-01, 7.65164662e-03],\n",
       "       [9.99894500e-01, 1.05519895e-04],\n",
       "       [9.98558462e-01, 1.44150411e-03],\n",
       "       [9.99737561e-01, 2.62458954e-04],\n",
       "       [3.14196665e-03, 9.96858001e-01],\n",
       "       [8.69795799e-01, 1.30204275e-01],\n",
       "       [9.46125388e-01, 5.38745895e-02],\n",
       "       [9.99439299e-01, 5.60733315e-04],\n",
       "       [4.54076799e-03, 9.95459259e-01],\n",
       "       [9.98728216e-01, 1.27181516e-03],\n",
       "       [1.84410423e-01, 8.15589607e-01],\n",
       "       [8.49092364e-01, 1.50907606e-01],\n",
       "       [2.81138867e-01, 7.18861163e-01],\n",
       "       [9.98023987e-01, 1.97603926e-03],\n",
       "       [1.43224210e-01, 8.56775820e-01],\n",
       "       [9.99945164e-01, 5.48306780e-05],\n",
       "       [9.98981893e-01, 1.01803488e-03],\n",
       "       [9.91243243e-01, 8.75674188e-03],\n",
       "       [9.99958992e-01, 4.10416324e-05],\n",
       "       [8.67431402e-01, 1.32568642e-01],\n",
       "       [9.97714758e-01, 2.28526327e-03],\n",
       "       [1.21720761e-01, 8.78279209e-01],\n",
       "       [1.35354279e-03, 9.98646438e-01],\n",
       "       [5.15198242e-03, 9.94848013e-01],\n",
       "       [2.36313534e-03, 9.97636914e-01],\n",
       "       [9.97402072e-01, 2.59790407e-03],\n",
       "       [8.98936749e-01, 1.01063237e-01],\n",
       "       [9.99427199e-01, 5.72862627e-04],\n",
       "       [7.65692890e-01, 2.34307081e-01],\n",
       "       [9.99994040e-01, 5.91605840e-06],\n",
       "       [1.73288956e-02, 9.82671082e-01],\n",
       "       [9.99986768e-01, 1.32700952e-05],\n",
       "       [4.04037914e-04, 9.99595940e-01],\n",
       "       [9.99033928e-01, 9.66134190e-04],\n",
       "       [3.21126981e-06, 9.99996781e-01],\n",
       "       [1.10966705e-01, 8.89033318e-01],\n",
       "       [9.99850154e-01, 1.49793123e-04],\n",
       "       [9.99171853e-01, 8.28137971e-04],\n",
       "       [8.77615392e-01, 1.22384571e-01],\n",
       "       [9.94043291e-01, 5.95668517e-03],\n",
       "       [3.05212706e-01, 6.94787264e-01],\n",
       "       [9.99396920e-01, 6.03063556e-04],\n",
       "       [9.99896646e-01, 1.03301696e-04],\n",
       "       [9.52714384e-01, 4.72856164e-02],\n",
       "       [9.99956012e-01, 4.39552241e-05],\n",
       "       [4.48681249e-06, 9.99995470e-01],\n",
       "       [1.00000000e+00, 2.26631887e-08],\n",
       "       [5.28846025e-01, 4.71153975e-01],\n",
       "       [9.76875424e-01, 2.31245253e-02],\n",
       "       [9.99999762e-01, 2.54076838e-07],\n",
       "       [9.98303771e-01, 1.69615040e-03],\n",
       "       [9.99848485e-01, 1.51468121e-04],\n",
       "       [9.99987006e-01, 1.29374039e-05],\n",
       "       [1.02244120e-03, 9.98977542e-01],\n",
       "       [8.05571198e-01, 1.94428802e-01],\n",
       "       [9.99626517e-01, 3.73437826e-04],\n",
       "       [9.99960780e-01, 3.92246548e-05],\n",
       "       [3.58199561e-03, 9.96417999e-01],\n",
       "       [9.94149685e-01, 5.85035980e-03],\n",
       "       [9.21624620e-03, 9.90783691e-01],\n",
       "       [9.99928117e-01, 7.19027012e-05],\n",
       "       [4.41543013e-02, 9.55845714e-01],\n",
       "       [9.94868636e-01, 5.13134943e-03],\n",
       "       [9.80958879e-01, 1.90411080e-02],\n",
       "       [9.99993324e-01, 6.69599149e-06],\n",
       "       [4.13210243e-02, 9.58679020e-01],\n",
       "       [9.99768674e-01, 2.31385318e-04],\n",
       "       [1.91042048e-03, 9.98089612e-01],\n",
       "       [9.99938369e-01, 6.16737161e-05],\n",
       "       [9.51709569e-01, 4.82904688e-02],\n",
       "       [5.72363198e-01, 4.27636832e-01],\n",
       "       [8.79061341e-01, 1.20938644e-01],\n",
       "       [9.61401403e-01, 3.85985710e-02],\n",
       "       [9.92674410e-01, 7.32554449e-03],\n",
       "       [9.92249608e-01, 7.75042316e-03],\n",
       "       [9.55664814e-01, 4.43352088e-02],\n",
       "       [9.97217298e-01, 2.78272410e-03],\n",
       "       [2.23003775e-02, 9.77699637e-01],\n",
       "       [9.96089220e-01, 3.91082047e-03],\n",
       "       [1.09655848e-02, 9.89034414e-01],\n",
       "       [9.45999622e-01, 5.40003739e-02],\n",
       "       [4.46275711e-01, 5.53724289e-01],\n",
       "       [9.99076486e-01, 9.23550222e-04],\n",
       "       [6.56749180e-04, 9.99343216e-01],\n",
       "       [9.99989748e-01, 1.02355389e-05],\n",
       "       [5.59939504e-01, 4.40060526e-01],\n",
       "       [5.08164463e-04, 9.99491811e-01],\n",
       "       [9.99993920e-01, 6.08544042e-06],\n",
       "       [1.81611584e-04, 9.99818385e-01],\n",
       "       [9.88753319e-01, 1.12466812e-02],\n",
       "       [3.07763054e-04, 9.99692321e-01],\n",
       "       [9.96193528e-01, 3.80648975e-03],\n",
       "       [1.37488851e-05, 9.99986291e-01],\n",
       "       [9.99979377e-01, 2.05792967e-05],\n",
       "       [9.99574959e-01, 4.25067527e-04],\n",
       "       [9.99856353e-01, 1.43652607e-04],\n",
       "       [2.42539372e-05, 9.99975801e-01],\n",
       "       [8.76112223e-01, 1.23887822e-01],\n",
       "       [9.96599734e-01, 3.40023125e-03],\n",
       "       [2.43865121e-02, 9.75613534e-01],\n",
       "       [9.99263465e-01, 7.36512477e-04],\n",
       "       [5.89587569e-01, 4.10412490e-01],\n",
       "       [2.21957024e-02, 9.77804363e-01],\n",
       "       [9.66127515e-01, 3.38725038e-02],\n",
       "       [9.96079504e-01, 3.92044662e-03],\n",
       "       [9.99979734e-01, 2.02483698e-05],\n",
       "       [9.99948025e-01, 5.19421119e-05],\n",
       "       [9.91622746e-01, 8.37722886e-03],\n",
       "       [9.81344461e-01, 1.86555926e-02],\n",
       "       [2.06901506e-02, 9.79309916e-01],\n",
       "       [1.86114667e-05, 9.99981403e-01],\n",
       "       [9.99265730e-01, 7.34256522e-04],\n",
       "       [9.98537660e-01, 1.46239053e-03],\n",
       "       [2.08795860e-01, 7.91204095e-01],\n",
       "       [5.91723109e-03, 9.94082749e-01],\n",
       "       [2.06426874e-01, 7.93573141e-01],\n",
       "       [9.93937016e-01, 6.06298773e-03],\n",
       "       [2.73901261e-02, 9.72609818e-01],\n",
       "       [9.41258609e-01, 5.87413646e-02],\n",
       "       [2.79460438e-02, 9.72053945e-01],\n",
       "       [9.99403834e-01, 5.96135564e-04],\n",
       "       [1.47873342e-01, 8.52126598e-01],\n",
       "       [9.99973059e-01, 2.69469347e-05],\n",
       "       [9.99966860e-01, 3.31435112e-05],\n",
       "       [9.99808252e-01, 1.91789033e-04],\n",
       "       [9.96215522e-01, 3.78442532e-03],\n",
       "       [5.99030495e-01, 4.00969505e-01],\n",
       "       [2.65395701e-01, 7.34604299e-01],\n",
       "       [9.99697924e-01, 3.02050496e-04],\n",
       "       [4.63018268e-01, 5.36981761e-01],\n",
       "       [2.66730368e-01, 7.33269632e-01],\n",
       "       [9.99973178e-01, 2.67727009e-05],\n",
       "       [1.80978281e-03, 9.98190224e-01],\n",
       "       [9.53870833e-01, 4.61291894e-02],\n",
       "       [9.99946237e-01, 5.37615488e-05],\n",
       "       [5.10090232e-01, 4.89909768e-01],\n",
       "       [9.99008000e-01, 9.92000918e-04],\n",
       "       [9.99982119e-01, 1.78452228e-05],\n",
       "       [9.99999762e-01, 2.71497072e-07],\n",
       "       [9.98353004e-01, 1.64707808e-03],\n",
       "       [9.00513493e-03, 9.90994871e-01],\n",
       "       [9.99614954e-01, 3.85005114e-04],\n",
       "       [8.31641674e-01, 1.68358386e-01],\n",
       "       [9.26950455e-01, 7.30495602e-02],\n",
       "       [9.97767091e-01, 2.23288522e-03],\n",
       "       [3.61378282e-01, 6.38621747e-01],\n",
       "       [3.93505156e-01, 6.06494844e-01],\n",
       "       [9.94769037e-01, 5.23095066e-03],\n",
       "       [7.84433305e-01, 2.15566710e-01],\n",
       "       [6.54549003e-05, 9.99934554e-01],\n",
       "       [9.85988975e-01, 1.40109761e-02],\n",
       "       [4.79751766e-01, 5.20248234e-01],\n",
       "       [9.98706818e-01, 1.29314314e-03],\n",
       "       [9.99999881e-01, 6.19825613e-08],\n",
       "       [9.99631524e-01, 3.68473877e-04],\n",
       "       [9.99151349e-01, 8.48587137e-04],\n",
       "       [8.12302709e-01, 1.87697247e-01],\n",
       "       [9.94786024e-01, 5.21396892e-03],\n",
       "       [5.58921024e-02, 9.44107890e-01],\n",
       "       [9.84104156e-01, 1.58959087e-02],\n",
       "       [7.89439976e-01, 2.10559994e-01],\n",
       "       [9.98643100e-01, 1.35690952e-03],\n",
       "       [9.93093848e-01, 6.90614991e-03],\n",
       "       [9.69600022e-01, 3.03999893e-02],\n",
       "       [1.73942864e-01, 8.26057136e-01],\n",
       "       [5.11556745e-01, 4.88443285e-01],\n",
       "       [9.52828646e-01, 4.71714064e-02],\n",
       "       [4.38987161e-04, 9.99561012e-01],\n",
       "       [9.99693513e-01, 3.06569680e-04],\n",
       "       [9.99184549e-01, 8.15426989e-04],\n",
       "       [2.90579675e-03, 9.97094154e-01],\n",
       "       [9.75677609e-01, 2.43224166e-02],\n",
       "       [9.99992490e-01, 7.56669851e-06],\n",
       "       [9.99380469e-01, 6.19493483e-04],\n",
       "       [9.92571890e-01, 7.42814783e-03],\n",
       "       [9.86345053e-01, 1.36550311e-02],\n",
       "       [9.48815644e-01, 5.11843339e-02],\n",
       "       [9.95261133e-01, 4.73889429e-03],\n",
       "       [9.99930501e-01, 6.95154085e-05],\n",
       "       [6.63305167e-03, 9.93366897e-01],\n",
       "       [8.57252717e-01, 1.42747298e-01],\n",
       "       [2.94524780e-03, 9.97054696e-01],\n",
       "       [9.99847293e-01, 1.52686785e-04],\n",
       "       [9.98521864e-01, 1.47811882e-03],\n",
       "       [9.98942554e-01, 1.05742447e-03],\n",
       "       [5.38717985e-01, 4.61282015e-01],\n",
       "       [9.99396563e-01, 6.03377994e-04],\n",
       "       [9.99032259e-01, 9.67708416e-04],\n",
       "       [2.30035130e-02, 9.76996481e-01],\n",
       "       [6.96899831e-01, 3.03100169e-01],\n",
       "       [2.34949263e-03, 9.97650564e-01],\n",
       "       [9.84049559e-01, 1.59504674e-02],\n",
       "       [3.11316444e-06, 9.99996901e-01],\n",
       "       [9.22456980e-01, 7.75430351e-02],\n",
       "       [1.47667679e-03, 9.98523295e-01],\n",
       "       [4.36867075e-03, 9.95631337e-01],\n",
       "       [7.92576313e-01, 2.07423702e-01],\n",
       "       [9.99886990e-01, 1.13057227e-04],\n",
       "       [9.93032336e-01, 6.96770055e-03],\n",
       "       [3.52798030e-02, 9.64720249e-01],\n",
       "       [1.40204372e-06, 9.99998569e-01],\n",
       "       [7.48934984e-01, 2.51065016e-01],\n",
       "       [9.93564308e-01, 6.43568439e-03],\n",
       "       [4.86795418e-02, 9.51320469e-01],\n",
       "       [9.97303009e-01, 2.69698794e-03],\n",
       "       [5.60672730e-02, 9.43932712e-01],\n",
       "       [6.85801148e-01, 3.14198852e-01],\n",
       "       [9.99073505e-01, 9.26491688e-04],\n",
       "       [4.28466536e-02, 9.57153380e-01],\n",
       "       [9.99678731e-01, 3.21341562e-04],\n",
       "       [9.93159413e-01, 6.84061181e-03],\n",
       "       [9.99994755e-01, 5.28710643e-06],\n",
       "       [8.21373165e-01, 1.78626791e-01],\n",
       "       [9.90727544e-01, 9.27248038e-03],\n",
       "       [9.96093690e-01, 3.90629098e-03],\n",
       "       [4.15645421e-01, 5.84354639e-01],\n",
       "       [9.99766529e-01, 2.33525629e-04],\n",
       "       [8.44074070e-01, 1.55925944e-01],\n",
       "       [9.99999762e-01, 2.90255088e-07],\n",
       "       [9.99657750e-01, 3.42294428e-04],\n",
       "       [9.98889029e-01, 1.11100497e-03],\n",
       "       [6.77012578e-02, 9.32298779e-01],\n",
       "       [2.44564451e-02, 9.75543499e-01],\n",
       "       [1.33221284e-01, 8.66778731e-01],\n",
       "       [9.99994993e-01, 5.00579972e-06],\n",
       "       [9.75443602e-01, 2.45564766e-02],\n",
       "       [9.31805909e-01, 6.81940988e-02],\n",
       "       [9.98932302e-01, 1.06769521e-03],\n",
       "       [1.79394125e-03, 9.98206019e-01],\n",
       "       [9.99927521e-01, 7.24818674e-05],\n",
       "       [9.99809921e-01, 1.90071398e-04],\n",
       "       [3.78538892e-02, 9.62146044e-01],\n",
       "       [9.99243140e-01, 7.56940572e-04],\n",
       "       [9.99357641e-01, 6.42377185e-04],\n",
       "       [9.51731145e-01, 4.82687764e-02],\n",
       "       [9.99982953e-01, 1.69949326e-05],\n",
       "       [9.99874473e-01, 1.25553794e-04],\n",
       "       [9.09003496e-01, 9.09964591e-02],\n",
       "       [2.50334409e-03, 9.97496665e-01],\n",
       "       [9.72765565e-01, 2.72343960e-02],\n",
       "       [9.91923749e-01, 8.07619747e-03],\n",
       "       [9.97764826e-01, 2.23516836e-03],\n",
       "       [1.86359748e-01, 8.13640237e-01],\n",
       "       [6.09185040e-01, 3.90814990e-01],\n",
       "       [9.99979138e-01, 2.08105557e-05],\n",
       "       [9.42842543e-01, 5.71574494e-02],\n",
       "       [5.12728584e-05, 9.99948740e-01],\n",
       "       [9.99849081e-01, 1.50911219e-04],\n",
       "       [9.84879971e-01, 1.51200024e-02],\n",
       "       [9.98094261e-01, 1.90576643e-03],\n",
       "       [7.16050208e-01, 2.83949792e-01],\n",
       "       [9.99994278e-01, 5.74366368e-06],\n",
       "       [9.99635935e-01, 3.64028820e-04],\n",
       "       [9.99996305e-01, 3.68812607e-06],\n",
       "       [9.36415732e-01, 6.35842085e-02],\n",
       "       [4.38224226e-02, 9.56177592e-01],\n",
       "       [4.53723487e-06, 9.99995470e-01],\n",
       "       [9.90892291e-01, 9.10762325e-03],\n",
       "       [9.99655366e-01, 3.44609318e-04],\n",
       "       [1.23768590e-01, 8.76231372e-01],\n",
       "       [9.99873638e-01, 1.26302955e-04],\n",
       "       [9.99864101e-01, 1.35917580e-04],\n",
       "       [9.99246120e-01, 7.53912667e-04],\n",
       "       [9.64002311e-03, 9.90359902e-01],\n",
       "       [9.47147489e-01, 5.28524779e-02],\n",
       "       [2.55841966e-04, 9.99744117e-01],\n",
       "       [8.85425627e-01, 1.14574417e-01],\n",
       "       [9.50562656e-01, 4.94373254e-02],\n",
       "       [5.27526855e-01, 4.72473085e-01],\n",
       "       [1.21720761e-01, 8.78279209e-01],\n",
       "       [9.97292578e-01, 2.70738988e-03],\n",
       "       [9.99992132e-01, 7.91208549e-06],\n",
       "       [9.98558462e-01, 1.44150411e-03],\n",
       "       [9.99931216e-01, 6.88171858e-05],\n",
       "       [8.70751023e-01, 1.29248977e-01],\n",
       "       [9.99958754e-01, 4.11930669e-05],\n",
       "       [9.99938965e-01, 6.10645584e-05],\n",
       "       [9.99060094e-01, 9.39930440e-04],\n",
       "       [9.25803900e-01, 7.41960853e-02],\n",
       "       [9.51251239e-02, 9.04874861e-01],\n",
       "       [9.99212980e-01, 7.86954362e-04],\n",
       "       [9.42036688e-01, 5.79633377e-02],\n",
       "       [8.19507420e-01, 1.80492625e-01],\n",
       "       [7.84953940e-04, 9.99215007e-01],\n",
       "       [9.93560195e-01, 6.43982971e-03],\n",
       "       [9.98159707e-01, 1.84032100e-03],\n",
       "       [9.98607576e-01, 1.39249081e-03],\n",
       "       [9.30813374e-04, 9.99069154e-01],\n",
       "       [4.56781894e-01, 5.43218076e-01],\n",
       "       [1.06192965e-04, 9.99893785e-01],\n",
       "       [9.95891690e-01, 4.10826458e-03],\n",
       "       [9.97603357e-01, 2.39660777e-03],\n",
       "       [3.57065260e-01, 6.42934799e-01],\n",
       "       [9.94305551e-01, 5.69447037e-03],\n",
       "       [2.95395296e-07, 9.99999762e-01],\n",
       "       [9.38803554e-01, 6.11963756e-02],\n",
       "       [9.99364913e-01, 6.35097967e-04],\n",
       "       [3.88664519e-03, 9.96113300e-01],\n",
       "       [4.16553468e-01, 5.83446503e-01],\n",
       "       [9.98952985e-01, 1.04696804e-03],\n",
       "       [7.64797005e-05, 9.99923468e-01],\n",
       "       [8.91465247e-01, 1.08534671e-01],\n",
       "       [9.99560773e-01, 4.39210271e-04],\n",
       "       [1.62304774e-01, 8.37695241e-01],\n",
       "       [9.99873638e-01, 1.26302955e-04],\n",
       "       [9.99948263e-01, 5.17614826e-05],\n",
       "       [9.99899387e-01, 1.00569850e-04],\n",
       "       [9.96973872e-01, 3.02616018e-03],\n",
       "       [9.98734891e-01, 1.26510975e-03],\n",
       "       [2.83593982e-02, 9.71640646e-01],\n",
       "       [1.26729280e-01, 8.73270750e-01],\n",
       "       [1.07043729e-06, 9.99998927e-01],\n",
       "       [9.19420302e-01, 8.05796608e-02],\n",
       "       [9.99914289e-01, 8.57313426e-05],\n",
       "       [9.90294695e-01, 9.70529579e-03],\n",
       "       [9.77146804e-01, 2.28531659e-02],\n",
       "       [9.99984264e-01, 1.57000559e-05],\n",
       "       [2.61807186e-03, 9.97381866e-01],\n",
       "       [4.08209255e-03, 9.95917976e-01],\n",
       "       [4.24434960e-01, 5.75565040e-01],\n",
       "       [9.99517202e-01, 4.82749398e-04],\n",
       "       [1.98559873e-02, 9.80144083e-01],\n",
       "       [2.42818519e-02, 9.75718141e-01],\n",
       "       [2.75117457e-01, 7.24882603e-01],\n",
       "       [6.72362968e-02, 9.32763696e-01],\n",
       "       [9.98125255e-01, 1.87478960e-03],\n",
       "       [4.49003801e-02, 9.55099702e-01],\n",
       "       [9.99975204e-01, 2.47956305e-05],\n",
       "       [9.68756974e-01, 3.12430896e-02],\n",
       "       [7.64678717e-01, 2.35321298e-01],\n",
       "       [5.52011132e-02, 9.44798946e-01],\n",
       "       [9.99751389e-01, 2.48655298e-04],\n",
       "       [6.21319609e-03, 9.93786812e-01],\n",
       "       [9.95956481e-01, 4.04350040e-03],\n",
       "       [1.13870548e-02, 9.88612890e-01],\n",
       "       [2.29474335e-05, 9.99976993e-01],\n",
       "       [9.99999285e-01, 7.54584107e-07],\n",
       "       [9.99948263e-01, 5.17597073e-05],\n",
       "       [4.09099728e-01, 5.90900242e-01],\n",
       "       [9.93117571e-01, 6.88242773e-03],\n",
       "       [9.95093703e-01, 4.90628555e-03],\n",
       "       [9.99996781e-01, 3.21475363e-06],\n",
       "       [1.60444677e-01, 8.39555264e-01],\n",
       "       [3.42183560e-01, 6.57816410e-01],\n",
       "       [2.58290380e-01, 7.41709590e-01],\n",
       "       [9.89464998e-01, 1.05349999e-02],\n",
       "       [9.99977708e-01, 2.22658782e-05],\n",
       "       [9.99873638e-01, 1.26302955e-04],\n",
       "       [9.98356760e-01, 1.64322555e-03],\n",
       "       [9.99819458e-01, 1.80545248e-04],\n",
       "       [9.99976993e-01, 2.29519865e-05],\n",
       "       [9.98264968e-01, 1.73504103e-03],\n",
       "       [9.99102712e-01, 8.97366786e-04],\n",
       "       [9.99972224e-01, 2.77296658e-05],\n",
       "       [3.63502890e-01, 6.36497080e-01],\n",
       "       [9.99712169e-01, 2.87849136e-04],\n",
       "       [9.93348897e-01, 6.65107276e-03],\n",
       "       [9.99918342e-01, 8.16026950e-05],\n",
       "       [6.02925047e-02, 9.39707458e-01],\n",
       "       [9.98890817e-01, 1.10925524e-03],\n",
       "       [9.99324560e-01, 6.75452000e-04],\n",
       "       [9.99728501e-01, 2.71512399e-04],\n",
       "       [9.99987245e-01, 1.27554285e-05],\n",
       "       [9.98626113e-01, 1.37387647e-03],\n",
       "       [9.99680281e-01, 3.19750310e-04],\n",
       "       [9.62806761e-01, 3.71931754e-02],\n",
       "       [9.99934077e-01, 6.59768557e-05],\n",
       "       [9.99799192e-01, 2.00786177e-04],\n",
       "       [9.61391509e-01, 3.86085249e-02],\n",
       "       [9.55494165e-01, 4.45058346e-02],\n",
       "       [9.99999523e-01, 4.49020149e-07],\n",
       "       [9.94658291e-01, 5.34165418e-03],\n",
       "       [9.73380625e-01, 2.66194008e-02],\n",
       "       [1.59353375e-01, 8.40646684e-01],\n",
       "       [9.94318545e-01, 5.68143046e-03],\n",
       "       [8.12638998e-01, 1.87361017e-01],\n",
       "       [3.18289822e-04, 9.99681711e-01],\n",
       "       [9.50180233e-01, 4.98198271e-02],\n",
       "       [9.74686801e-01, 2.53132135e-02],\n",
       "       [9.99984026e-01, 1.59461069e-05],\n",
       "       [9.99999881e-01, 1.13207598e-07],\n",
       "       [1.40867464e-03, 9.98591363e-01],\n",
       "       [9.99578059e-01, 4.21959674e-04],\n",
       "       [1.96074538e-07, 9.99999762e-01],\n",
       "       [8.39773536e-01, 1.60226434e-01],\n",
       "       [9.97643054e-01, 2.35689967e-03],\n",
       "       [9.99997854e-01, 2.11441443e-06],\n",
       "       [2.34677970e-01, 7.65322030e-01],\n",
       "       [6.38150238e-03, 9.93618488e-01],\n",
       "       [9.97836888e-01, 2.16314849e-03],\n",
       "       [1.79409564e-01, 8.20590436e-01],\n",
       "       [9.99917388e-01, 8.25838943e-05],\n",
       "       [3.97811942e-02, 9.60218847e-01],\n",
       "       [9.98890340e-01, 1.10964617e-03],\n",
       "       [3.12051117e-01, 6.87948883e-01],\n",
       "       [9.92781103e-01, 7.21886195e-03],\n",
       "       [9.99520302e-01, 4.79761453e-04],\n",
       "       [9.99951243e-01, 4.87330290e-05],\n",
       "       [9.95069981e-01, 4.93001845e-03],\n",
       "       [8.90439153e-01, 1.09560870e-01],\n",
       "       [3.16612213e-03, 9.96833861e-01],\n",
       "       [3.63190114e-01, 6.36809945e-01],\n",
       "       [3.64318788e-02, 9.63568091e-01],\n",
       "       [6.21189480e-04, 9.99378800e-01],\n",
       "       [8.95181715e-01, 1.04818299e-01],\n",
       "       [9.47848916e-01, 5.21510318e-02],\n",
       "       [9.94279742e-01, 5.72019257e-03],\n",
       "       [9.97672737e-01, 2.32728617e-03],\n",
       "       [3.45250100e-01, 6.54749930e-01],\n",
       "       [9.99832511e-01, 1.67477148e-04],\n",
       "       [1.69439245e-05, 9.99983072e-01],\n",
       "       [9.99640107e-01, 3.59901780e-04],\n",
       "       [9.84894812e-01, 1.51051544e-02],\n",
       "       [9.99636054e-01, 3.63893836e-04],\n",
       "       [9.99696016e-01, 3.04004003e-04],\n",
       "       [9.78999496e-01, 2.10004728e-02],\n",
       "       [9.98558462e-01, 1.44150411e-03],\n",
       "       [9.94006515e-01, 5.99348499e-03],\n",
       "       [9.91818905e-01, 8.18111282e-03],\n",
       "       [9.98278379e-01, 1.72164163e-03],\n",
       "       [9.99022603e-01, 9.77405347e-04],\n",
       "       [2.61689932e-03, 9.97383058e-01],\n",
       "       [9.99964952e-01, 3.50527916e-05],\n",
       "       [9.97945964e-01, 2.05404870e-03],\n",
       "       [9.99965191e-01, 3.47590285e-05],\n",
       "       [9.99984384e-01, 1.56624483e-05],\n",
       "       [5.24277706e-03, 9.94757295e-01],\n",
       "       [7.03357339e-01, 2.96642691e-01],\n",
       "       [9.99999046e-01, 9.22964830e-07],\n",
       "       [7.86340702e-03, 9.92136598e-01],\n",
       "       [9.96577203e-01, 3.42273130e-03],\n",
       "       [9.99034405e-01, 9.65625281e-04],\n",
       "       [9.80792463e-01, 1.92075465e-02],\n",
       "       [9.99639034e-01, 3.60985228e-04],\n",
       "       [9.96543229e-01, 3.45676462e-03]], dtype=float32)"
      ]
     },
     "execution_count": 147,
     "metadata": {},
     "output_type": "execute_result"
    }
   ],
   "source": [
    "sol"
   ]
  },
  {
   "cell_type": "code",
   "execution_count": 148,
   "metadata": {
    "colab": {
     "base_uri": "https://localhost:8080/"
    },
    "id": "LhspkBJ2h1_P",
    "outputId": "9c5adda4-d22a-4469-cc8a-b54578bead11",
    "pycharm": {
     "name": "#%%\n"
    }
   },
   "outputs": [
    {
     "name": "stdout",
     "output_type": "stream",
     "text": [
      "[0, 1, 0, 0, 1, 1, 0, 1, 0, 0, 0, 0, 1, 1, 1, 0, 0, 1, 1, 0, 0, 0, 0, 1, 0, 0, 0, 0, 1, 0, 0, 0, 0, 0, 0, 0, 1, 1, 0, 0, 1, 0, 0, 0, 1, 0, 0, 0, 1, 0, 0, 0, 0, 0, 1, 0, 1, 0, 0, 0, 1, 0, 0, 1, 0, 0, 0, 0, 0, 1, 0, 0, 0, 1, 0, 1, 0, 1, 0, 1, 0, 0, 0, 0, 0, 0, 1, 1, 1, 1, 0, 0, 0, 0, 0, 1, 0, 1, 0, 1, 1, 0, 0, 0, 0, 1, 0, 0, 0, 0, 1, 0, 0, 0, 0, 0, 0, 0, 1, 0, 0, 0, 1, 0, 1, 0, 1, 0, 0, 0, 1, 0, 1, 0, 0, 0, 0, 0, 0, 0, 0, 0, 1, 0, 1, 0, 1, 0, 1, 0, 0, 1, 0, 1, 0, 1, 0, 1, 0, 0, 0, 1, 0, 0, 1, 0, 0, 1, 0, 0, 0, 0, 0, 0, 1, 1, 0, 0, 1, 1, 1, 0, 1, 0, 1, 0, 1, 0, 0, 0, 0, 0, 1, 0, 1, 1, 0, 1, 0, 0, 0, 0, 0, 0, 0, 1, 0, 0, 0, 0, 1, 1, 0, 0, 1, 0, 1, 0, 0, 0, 0, 0, 0, 1, 0, 0, 0, 0, 0, 1, 0, 0, 1, 0, 0, 1, 0, 0, 0, 0, 0, 0, 0, 0, 1, 0, 1, 0, 0, 0, 0, 0, 0, 1, 0, 1, 0, 1, 0, 1, 1, 0, 0, 0, 1, 1, 0, 0, 1, 0, 1, 0, 0, 1, 0, 0, 0, 0, 0, 0, 1, 0, 0, 0, 0, 0, 1, 1, 1, 0, 0, 0, 0, 1, 0, 0, 1, 0, 0, 0, 0, 0, 0, 1, 0, 0, 0, 1, 0, 0, 0, 1, 0, 0, 0, 0, 0, 0, 0, 0, 1, 1, 0, 0, 1, 0, 0, 0, 1, 0, 1, 0, 0, 0, 1, 0, 0, 0, 0, 0, 0, 0, 0, 0, 1, 0, 0, 0, 1, 0, 0, 0, 1, 1, 1, 0, 0, 1, 0, 1, 0, 0, 1, 1, 0, 1, 0, 0, 1, 0, 0, 0, 0, 0, 1, 1, 1, 0, 0, 0, 0, 0, 1, 1, 1, 0, 1, 1, 1, 1, 0, 1, 0, 0, 0, 1, 0, 1, 0, 1, 1, 0, 0, 1, 0, 0, 0, 1, 1, 1, 0, 0, 0, 0, 0, 0, 0, 0, 0, 1, 0, 0, 0, 1, 0, 0, 0, 0, 0, 0, 0, 0, 0, 0, 0, 0, 0, 0, 1, 0, 0, 1, 0, 0, 0, 0, 1, 0, 1, 0, 0, 0, 1, 1, 0, 1, 0, 1, 0, 1, 0, 0, 0, 0, 0, 1, 1, 1, 1, 0, 0, 0, 0, 1, 0, 1, 0, 0, 0, 0, 0, 0, 0, 0, 0, 0, 1, 0, 0, 0, 0, 1, 0, 0, 1, 0, 0, 0, 0, 0]\n"
     ]
    }
   ],
   "source": [
    "count=[]\n",
    "for i in range(0,500):\n",
    "  count.append(np.argmax(sol[i]))\n",
    "print(count)"
   ]
  },
  {
   "cell_type": "code",
   "execution_count": 149,
   "metadata": {
    "colab": {
     "base_uri": "https://localhost:8080/",
     "height": 550
    },
    "id": "QR3Gml_0ic88",
    "outputId": "95e7553c-2e5e-41cf-bbab-f3c8bb1561ed",
    "pycharm": {
     "name": "#%%\n"
    }
   },
   "outputs": [
    {
     "data": {
      "image/png": "[encoded data removed]",
      "text/plain": [
       "<Figure size 640x480 with 2 Axes>"
      ]
     },
     "metadata": {},
     "output_type": "display_data"
    },
    {
     "name": "stdout",
     "output_type": "stream",
     "text": [
      "Accuracy   : 0.736\n",
      "Precision : 0.14\n",
      "Recall    : 0.875\n",
      "F1-score  : 0.24137931034482757\n"
     ]
    }
   ],
   "source": [
    "import seaborn as sns\n",
    "import matplotlib.pyplot as plt\n",
    "from sklearn.metrics import confusion_matrix\n",
    "from sklearn.metrics import accuracy_score, precision_score, recall_score, f1_score\n",
    "\n",
    "cm=confusion_matrix(data.iloc[:,1].values, count)\n",
    "\n",
    "\n",
    "sns.heatmap(cm,\n",
    "            annot=True,\n",
    "            fmt='g',\n",
    "            xticklabels=['Neutral','Racist'],\n",
    "            yticklabels=['Neural','Racist'])\n",
    "plt.ylabel('Actual',fontsize=13)\n",
    "plt.xlabel('Predicted',fontsize=13)\n",
    "plt.title('Confusion Matrix',fontsize=17)\n",
    "plt.show()\n",
    "\n",
    "y_test=data.iloc[:,1].values\n",
    "y_pred=count\n",
    "accuracy = accuracy_score(y_test, y_pred)\n",
    "print(\"Accuracy   :\", accuracy)\n",
    "precision = precision_score(y_test, y_pred)\n",
    "print(\"Precision :\", precision)\n",
    "recall = recall_score(y_test, y_pred)\n",
    "print(\"Recall    :\", recall)\n",
    "F1_score = f1_score(y_test, y_pred)\n",
    "print(\"F1-score  :\", F1_score)\n"
   ]
  }
 ],
 "metadata": {
  "accelerator": "GPU",
  "colab": {
   "gpuType": "T4",
   "provenance": []
  },
  "kernelspec": {
   "display_name": "Python 3 (ipykernel)",
   "language": "python",
   "name": "python3"
  },
  "language_info": {
   "codemirror_mode": {
    "name": "ipython",
    "version": 3
   },
   "file_extension": ".py",
   "mimetype": "text/x-python",
   "name": "python",
   "nbconvert_exporter": "python",
   "pygments_lexer": "ipython3",
   "version": "3.10.6"
  }
 },
 "nbformat": 4,
 "nbformat_minor": 1
}